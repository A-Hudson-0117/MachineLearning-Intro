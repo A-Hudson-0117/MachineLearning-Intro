{
 "cells": [
  {
   "cell_type": "markdown",
   "metadata": {},
   "source": [
    "# Fully Connected NN (Question 1a)"
   ]
  },
  {
   "cell_type": "code",
   "execution_count": 1,
   "metadata": {},
   "outputs": [],
   "source": [
    "import matplotlib.pyplot as plt\n",
    "import torch\n",
    "from torchvision import transforms\n"
   ]
  },
  {
   "cell_type": "markdown",
   "metadata": {},
   "source": [
    "# Import Data"
   ]
  },
  {
   "cell_type": "code",
   "execution_count": 2,
   "metadata": {},
   "outputs": [
    {
     "name": "stdout",
     "output_type": "stream",
     "text": [
      "Files already downloaded and verified\n",
      "Files already downloaded and verified\n"
     ]
    }
   ],
   "source": [
    "from torchvision import datasets\n",
    "data_path = '../dataset/cifar10'\n",
    "cifar10     = datasets.CIFAR10(data_path, train=True , download=True)\n",
    "cifar10_val = datasets.CIFAR10(data_path, train=False, download=True)"
   ]
  },
  {
   "cell_type": "code",
   "execution_count": 3,
   "metadata": {},
   "outputs": [],
   "source": [
    "cifar10_map = {\n",
    "    0: \"airplane\",\n",
    "    1: \"automobile\",\n",
    "    2: \"bird\",\n",
    "    3: \"cat\",\n",
    "    4: \"deer\",\n",
    "    5: \"dog\",\n",
    "    6: \"frog\",\n",
    "    7: \"horse\",\n",
    "    8: \"ship\",\n",
    "    9: \"truck\"\n",
    "}\n",
    "sample_image = 70"
   ]
  },
  {
   "cell_type": "markdown",
   "metadata": {},
   "source": [
    "## verify data"
   ]
  },
  {
   "cell_type": "code",
   "execution_count": 4,
   "metadata": {},
   "outputs": [
    {
     "name": "stdout",
     "output_type": "stream",
     "text": [
      "5 : dog\n",
      "  <PIL.Image.Image image mode=RGB size=32x32 at 0x7F0544051CD0>\n"
     ]
    },
    {
     "data": {
      "image/png": "[encoded data removed]",
      "text/plain": [
       "<Figure size 432x288 with 1 Axes>"
      ]
     },
     "metadata": {
      "needs_background": "light"
     },
     "output_type": "display_data"
    }
   ],
   "source": [
    "img, label = cifar10[sample_image]\n",
    "print(f'{label} : {cifar10_map[label]}\\n  {img}')\n",
    "plt.imshow(img)\n",
    "plt.show()"
   ]
  },
  {
   "cell_type": "code",
   "execution_count": 5,
   "metadata": {},
   "outputs": [
    {
     "data": {
      "text/plain": [
       "torch.Size([3, 32, 32])"
      ]
     },
     "execution_count": 5,
     "metadata": {},
     "output_type": "execute_result"
    }
   ],
   "source": [
    "to_tensor = transforms.ToTensor()\n",
    "img_t = to_tensor(img)\n",
    "img_t.shape"
   ]
  },
  {
   "cell_type": "code",
   "execution_count": 6,
   "metadata": {},
   "outputs": [
    {
     "data": {
      "image/png": "[encoded data removed]",
      "text/plain": [
       "<Figure size 432x288 with 1 Axes>"
      ]
     },
     "metadata": {
      "needs_background": "light"
     },
     "output_type": "display_data"
    }
   ],
   "source": [
    "plt.imshow(img_t.permute(1, 2, 0))  # <1>\n",
    "plt.show()"
   ]
  },
  {
   "cell_type": "markdown",
   "metadata": {},
   "source": [
    "# get std deviation and mean"
   ]
  },
  {
   "cell_type": "code",
   "execution_count": 7,
   "metadata": {},
   "outputs": [],
   "source": [
    "tensor_cifar10 = datasets.CIFAR10(data_path, train=True, download=False,\n",
    "                          transform=transforms.ToTensor())"
   ]
  },
  {
   "cell_type": "code",
   "execution_count": 8,
   "metadata": {},
   "outputs": [
    {
     "data": {
      "text/plain": [
       "torch.Size([3, 32, 32, 50000])"
      ]
     },
     "execution_count": 8,
     "metadata": {},
     "output_type": "execute_result"
    }
   ],
   "source": [
    "imgs = torch.stack([img_t for img_t, _ in tensor_cifar10], dim=3)\n",
    "imgs.shape"
   ]
  },
  {
   "cell_type": "code",
   "execution_count": 9,
   "metadata": {},
   "outputs": [
    {
     "name": "stdout",
     "output_type": "stream",
     "text": [
      "mean = tensor([0.4914, 0.4822, 0.4465])\n",
      "std = tensor([0.2470, 0.2435, 0.2616])\n"
     ]
    }
   ],
   "source": [
    "data_mean = imgs.view(3, -1).mean(dim=1)\n",
    "data_std  = imgs.view(3, -1).std(dim=1)\n",
    "\n",
    "print(f'mean = {data_mean}')\n",
    "print(f'std = {data_std}')"
   ]
  },
  {
   "cell_type": "code",
   "execution_count": 10,
   "metadata": {},
   "outputs": [
    {
     "data": {
      "text/plain": [
       "Normalize(mean=tensor([0.4914, 0.4822, 0.4465]), std=tensor([0.2470, 0.2435, 0.2616]))"
      ]
     },
     "execution_count": 10,
     "metadata": {},
     "output_type": "execute_result"
    }
   ],
   "source": [
    "transforms.Normalize(data_mean, data_std)"
   ]
  },
  {
   "cell_type": "markdown",
   "metadata": {},
   "source": [
    "# Better import  "
   ]
  },
  {
   "cell_type": "code",
   "execution_count": 11,
   "metadata": {},
   "outputs": [
    {
     "name": "stdout",
     "output_type": "stream",
     "text": [
      "deleted\n"
     ]
    }
   ],
   "source": [
    "# to save memory\n",
    "del cifar10, cifar10_val, tensor_cifar10, imgs\n",
    "try:\n",
    "    cifar10[0]\n",
    "    print(\"not deleted\")\n",
    "except:\n",
    "    print(\"deleted\")"
   ]
  },
  {
   "cell_type": "code",
   "execution_count": 12,
   "metadata": {},
   "outputs": [],
   "source": [
    "cifar10 = datasets.CIFAR10(\n",
    "    data_path, train=True, download=False,\n",
    "    transform=transforms.Compose([\n",
    "        transforms.ToTensor(),\n",
    "        transforms.Normalize(data_mean, # mean of entire dataset\n",
    "                             data_std) # std deviation of entire dataset\n",
    "    ]))"
   ]
  },
  {
   "cell_type": "code",
   "execution_count": 13,
   "metadata": {},
   "outputs": [],
   "source": [
    "cifar10_val = datasets.CIFAR10(\n",
    "    data_path, train=False, download=False,\n",
    "    transform=transforms.Compose([\n",
    "        transforms.ToTensor(),\n",
    "        transforms.Normalize(data_mean, data_std)\n",
    "    ]))"
   ]
  },
  {
   "cell_type": "markdown",
   "metadata": {},
   "source": [
    "## verify data"
   ]
  },
  {
   "cell_type": "code",
   "execution_count": 14,
   "metadata": {},
   "outputs": [
    {
     "name": "stderr",
     "output_type": "stream",
     "text": [
      "Clipping input data to the valid range for imshow with RGB data ([0..1] for floats or [0..255] for integers).\n"
     ]
    },
    {
     "data": {
      "image/png": "[encoded data removed]",
      "text/plain": [
       "<Figure size 432x288 with 1 Axes>"
      ]
     },
     "metadata": {
      "needs_background": "light"
     },
     "output_type": "display_data"
    },
    {
     "name": "stdout",
     "output_type": "stream",
     "text": [
      "torch.Size([3, 32, 32])\n"
     ]
    },
    {
     "data": {
      "text/plain": [
       "3072"
      ]
     },
     "execution_count": 14,
     "metadata": {},
     "output_type": "execute_result"
    }
   ],
   "source": [
    "img, label = cifar10[sample_image]\n",
    "\n",
    "plt.imshow(img.permute(1, 2, 0))\n",
    "plt.show()\n",
    "\n",
    "print(img.shape)\n",
    "torch.numel(img)"
   ]
  },
  {
   "cell_type": "markdown",
   "metadata": {},
   "source": [
    "# 1 layer NN\n",
    "part a"
   ]
  },
  {
   "cell_type": "markdown",
   "metadata": {},
   "source": [
    "## Setup"
   ]
  },
  {
   "cell_type": "code",
   "execution_count": 15,
   "metadata": {},
   "outputs": [
    {
     "data": {
      "text/plain": [
       "Sequential(\n",
       "  (hidden_layer): Linear(in_features=3072, out_features=512, bias=True)\n",
       "  (hidden_activation): Tanh()\n",
       "  (output): Linear(in_features=512, out_features=10, bias=True)\n",
       "  (softmax): LogSoftmax(dim=1)\n",
       ")"
      ]
     },
     "execution_count": 15,
     "metadata": {},
     "output_type": "execute_result"
    }
   ],
   "source": [
    "import torch.nn as nn\n",
    "from collections import OrderedDict\n",
    "\n",
    "\n",
    "n_in = torch.numel(img)  # Number of elements in 3 x 32 x 32 image\n",
    "                         # IE.  3072\n",
    "n_out = len(cifar10_map) # number of possible outputs\n",
    "                         # IE.  10\n",
    "n_inner = 512 \n",
    "\n",
    "\n",
    "model = nn.Sequential(OrderedDict([\n",
    "        (\"hidden_layer\",\n",
    "        nn.Linear(\n",
    "            n_in,\n",
    "            512,   \n",
    "        )),\n",
    "        (\"hidden_activation\",\n",
    "        nn.Tanh()\n",
    "        ),\n",
    "        (\"output\",\n",
    "        nn.Linear(\n",
    "            512,   \n",
    "            n_out, \n",
    "        )),\n",
    "        (\"softmax\",\n",
    "        nn.LogSoftmax(dim=1)\n",
    "        ),\n",
    "    ]))\n",
    "model"
   ]
  },
  {
   "cell_type": "code",
   "execution_count": 16,
   "metadata": {},
   "outputs": [],
   "source": [
    "loss = nn.NLLLoss()"
   ]
  },
  {
   "cell_type": "markdown",
   "metadata": {},
   "source": [
    "## setup test"
   ]
  },
  {
   "cell_type": "code",
   "execution_count": 17,
   "metadata": {},
   "outputs": [
    {
     "data": {
      "text/plain": [
       "tensor(2.4943, grad_fn=<NllLossBackward0>)"
      ]
     },
     "execution_count": 17,
     "metadata": {},
     "output_type": "execute_result"
    }
   ],
   "source": [
    "img, label = cifar10[sample_image]\n",
    "\n",
    "out = model(img.view(-1).unsqueeze(0))\n",
    "\n",
    "loss(out, torch.tensor([label]))"
   ]
  },
  {
   "cell_type": "markdown",
   "metadata": {},
   "source": [
    "## full data\n",
    "left in raw text to preserve"
   ]
  },
  {
   "cell_type": "markdown",
   "metadata": {},
   "source": [
    "### training function"
   ]
  },
  {
   "cell_type": "raw",
   "metadata": {},
   "source": [
    "import time\n",
    "\n",
    "def training(img_data, loss_fn, optimizer, n_epochs:int, report_period:int = 10):\n",
    "    for epoch in range(n_epochs):\n",
    "        start = time.time()\n",
    "        \n",
    "        for img, label in img_data:\n",
    "            out = model(img.view(-1).unsqueeze(0))\n",
    "            loss = loss_fn(out, torch.tensor([label]))\n",
    "                    \n",
    "            optimizer.zero_grad()\n",
    "            loss.backward()\n",
    "            optimizer.step()\n",
    "\n",
    "        end = time.time()\n",
    "        if ((epoch % report_period) == 0) or (epoch == n_epochs):\n",
    "            print(f\"Epoch: {epoch}, Loss: {float(loss):.5f}, Time: {end-start:.2f} s\")"
   ]
  },
  {
   "cell_type": "markdown",
   "metadata": {},
   "source": [
    "### training"
   ]
  },
  {
   "cell_type": "raw",
   "metadata": {},
   "source": [
    "learning_rate = 1e-2\n",
    "\n",
    "optimizer = torch.optim.SGD(model.parameters(), lr=learning_rate)\n",
    "\n",
    "loss_fn = nn.NLLLoss()\n",
    "\n",
    "n_epochs = 300"
   ]
  },
  {
   "cell_type": "raw",
   "metadata": {},
   "source": [
    "training(cifar10, \n",
    "         loss_fn, \n",
    "         optimizer, \n",
    "         n_epochs,\n",
    "         report_period=1\n",
    "         )"
   ]
  },
  {
   "cell_type": "markdown",
   "metadata": {},
   "source": [
    "## mini batches\n"
   ]
  },
  {
   "cell_type": "markdown",
   "metadata": {},
   "source": [
    "### training function"
   ]
  },
  {
   "cell_type": "code",
   "execution_count": 18,
   "metadata": {},
   "outputs": [],
   "source": [
    "import time\n",
    "\n",
    "def training(training_imgs, loss_fn, optimizer, n_epochs:int, report_period:int = 10):\n",
    "    sum_time = 0\n",
    "    for epoch in range(n_epochs + 1):\n",
    "        start = time.time()\n",
    "        \n",
    "        for img, label in training_imgs:\n",
    "            out = model(img.view(img.shape[0], -1))\n",
    "            loss = loss_fn(out, label)\n",
    "                    \n",
    "            optimizer.zero_grad()\n",
    "            loss.backward()\n",
    "            optimizer.step()\n",
    "\n",
    "        sum_time += time.time() - start\n",
    "        if ((epoch % report_period) == 0) or (epoch == n_epochs):\n",
    "            print(f\"Epoch: {epoch}\\t Loss: {float(loss):.12f}\\t AvgTime: {sum_time/(epoch+1):.2f} s\")"
   ]
  },
  {
   "cell_type": "markdown",
   "metadata": {},
   "source": [
    "### training"
   ]
  },
  {
   "cell_type": "code",
   "execution_count": 19,
   "metadata": {},
   "outputs": [
    {
     "data": {
      "text/plain": [
       "Sequential(\n",
       "  (hidden_layer): Linear(in_features=3072, out_features=512, bias=True)\n",
       "  (hidden_activation): Tanh()\n",
       "  (output): Linear(in_features=512, out_features=10, bias=True)\n",
       "  (softmax): LogSoftmax(dim=1)\n",
       ")"
      ]
     },
     "execution_count": 19,
     "metadata": {},
     "output_type": "execute_result"
    }
   ],
   "source": [
    "train_loader = torch.utils.data.DataLoader(\n",
    "                    cifar10, \n",
    "                    batch_size=64,\n",
    "                    shuffle=True\n",
    "                    )\n",
    "\n",
    "learning_rate = 1e-2\n",
    "\n",
    "optimizer = torch.optim.SGD(model.parameters(), lr=learning_rate)\n",
    "\n",
    "loss_fn = nn.NLLLoss()\n",
    "\n",
    "n_epochs = 300\n",
    "\n",
    "model"
   ]
  },
  {
   "cell_type": "code",
   "execution_count": 20,
   "metadata": {},
   "outputs": [
    {
     "name": "stdout",
     "output_type": "stream",
     "text": [
      "Epoch: 0\t Loss: 1.679373025894\t AvgTime: 10.34 s\n",
      "Epoch: 5\t Loss: 1.794926166534\t AvgTime: 11.67 s\n",
      "Epoch: 10\t Loss: 1.001077055931\t AvgTime: 11.28 s\n",
      "Epoch: 15\t Loss: 1.598965048790\t AvgTime: 11.00 s\n",
      "Epoch: 20\t Loss: 1.134561538696\t AvgTime: 10.85 s\n",
      "Epoch: 25\t Loss: 0.952991008759\t AvgTime: 10.76 s\n",
      "Epoch: 30\t Loss: 0.739563584328\t AvgTime: 10.87 s\n",
      "Epoch: 35\t Loss: 0.447977125645\t AvgTime: 10.85 s\n",
      "Epoch: 40\t Loss: 0.258433550596\t AvgTime: 10.88 s\n",
      "Epoch: 45\t Loss: 0.645227193832\t AvgTime: 10.97 s\n",
      "Epoch: 50\t Loss: 0.309659212828\t AvgTime: 11.06 s\n",
      "Epoch: 55\t Loss: 0.174941867590\t AvgTime: 11.09 s\n",
      "Epoch: 60\t Loss: 0.196170285344\t AvgTime: 11.03 s\n",
      "Epoch: 65\t Loss: 0.101451955736\t AvgTime: 10.98 s\n",
      "Epoch: 70\t Loss: 0.083778798580\t AvgTime: 10.95 s\n",
      "Epoch: 75\t Loss: 0.093564406037\t AvgTime: 10.92 s\n",
      "Epoch: 80\t Loss: 0.050373222679\t AvgTime: 10.96 s\n",
      "Epoch: 85\t Loss: 0.054337263107\t AvgTime: 10.92 s\n",
      "Epoch: 90\t Loss: 0.048423580825\t AvgTime: 11.00 s\n",
      "Epoch: 95\t Loss: 0.037594173104\t AvgTime: 10.98 s\n",
      "Epoch: 100\t Loss: 0.042452670634\t AvgTime: 11.00 s\n",
      "Epoch: 105\t Loss: 0.036095071584\t AvgTime: 10.97 s\n",
      "Epoch: 110\t Loss: 0.131067782640\t AvgTime: 10.94 s\n",
      "Epoch: 115\t Loss: 0.027763802558\t AvgTime: 10.91 s\n",
      "Epoch: 120\t Loss: 0.021829478443\t AvgTime: 10.89 s\n",
      "Epoch: 125\t Loss: 0.020796302706\t AvgTime: 10.87 s\n",
      "Epoch: 130\t Loss: 0.021064421162\t AvgTime: 10.85 s\n",
      "Epoch: 135\t Loss: 0.019047304988\t AvgTime: 10.83 s\n",
      "Epoch: 140\t Loss: 0.014398607425\t AvgTime: 10.82 s\n",
      "Epoch: 145\t Loss: 0.017565876245\t AvgTime: 10.80 s\n",
      "Epoch: 150\t Loss: 0.009320143610\t AvgTime: 10.78 s\n",
      "Epoch: 155\t Loss: 0.018470956013\t AvgTime: 10.77 s\n",
      "Epoch: 160\t Loss: 0.019603868946\t AvgTime: 10.77 s\n",
      "Epoch: 165\t Loss: 0.021727727726\t AvgTime: 10.75 s\n",
      "Epoch: 170\t Loss: 0.013932410628\t AvgTime: 10.74 s\n",
      "Epoch: 175\t Loss: 0.016049765050\t AvgTime: 10.73 s\n",
      "Epoch: 180\t Loss: 0.017688453197\t AvgTime: 10.72 s\n",
      "Epoch: 185\t Loss: 0.012317145243\t AvgTime: 10.71 s\n",
      "Epoch: 190\t Loss: 0.012261950411\t AvgTime: 10.70 s\n",
      "Epoch: 195\t Loss: 0.014675000682\t AvgTime: 10.69 s\n",
      "Epoch: 200\t Loss: 0.009276958182\t AvgTime: 10.68 s\n",
      "Epoch: 205\t Loss: 0.011759894900\t AvgTime: 10.67 s\n",
      "Epoch: 210\t Loss: 0.010629720986\t AvgTime: 10.66 s\n",
      "Epoch: 215\t Loss: 0.009847837500\t AvgTime: 10.65 s\n",
      "Epoch: 220\t Loss: 0.011216482148\t AvgTime: 10.65 s\n",
      "Epoch: 225\t Loss: 0.009751467966\t AvgTime: 10.64 s\n",
      "Epoch: 230\t Loss: 0.006027783267\t AvgTime: 10.64 s\n",
      "Epoch: 235\t Loss: 0.005899930838\t AvgTime: 10.63 s\n",
      "Epoch: 240\t Loss: 0.006687247194\t AvgTime: 10.63 s\n",
      "Epoch: 245\t Loss: 0.007070548367\t AvgTime: 10.62 s\n",
      "Epoch: 250\t Loss: 0.004919753876\t AvgTime: 10.62 s\n",
      "Epoch: 255\t Loss: 0.007413130719\t AvgTime: 10.61 s\n",
      "Epoch: 260\t Loss: 0.010468747467\t AvgTime: 10.61 s\n",
      "Epoch: 265\t Loss: 0.007758973166\t AvgTime: 10.61 s\n",
      "Epoch: 270\t Loss: 0.006998658646\t AvgTime: 10.60 s\n",
      "Epoch: 275\t Loss: 0.007232303265\t AvgTime: 10.60 s\n",
      "Epoch: 280\t Loss: 0.007760006003\t AvgTime: 10.60 s\n",
      "Epoch: 285\t Loss: 0.007303700782\t AvgTime: 10.60 s\n",
      "Epoch: 290\t Loss: 0.006336492486\t AvgTime: 10.60 s\n",
      "Epoch: 295\t Loss: 0.004514126573\t AvgTime: 10.60 s\n",
      "Epoch: 300\t Loss: 0.004242190160\t AvgTime: 10.60 s\n"
     ]
    }
   ],
   "source": [
    "training(train_loader, \n",
    "         loss_fn, \n",
    "         optimizer, \n",
    "         n_epochs,\n",
    "         report_period=5\n",
    "         )"
   ]
  },
  {
   "cell_type": "code",
   "execution_count": 21,
   "metadata": {},
   "outputs": [
    {
     "name": "stdout",
     "output_type": "stream",
     "text": [
      "Accuracy: 1.000000\n",
      "Total: 50000\n"
     ]
    }
   ],
   "source": [
    "train_loader = torch.utils.data.DataLoader(cifar10, batch_size=64,\n",
    "                                           shuffle=False)\n",
    "\n",
    "correct = 0\n",
    "total = 0\n",
    "\n",
    "with torch.no_grad():\n",
    "    for imgs, labels in train_loader:\n",
    "        outputs = model(imgs.view(imgs.shape[0], -1))\n",
    "        _, predicted = torch.max(outputs, dim=1)\n",
    "        total += labels.shape[0]\n",
    "        correct += int((predicted == labels).sum())\n",
    "\n",
    "print(\"Accuracy: %f\" % (correct / total))\n",
    "print(\"Total:\", total)"
   ]
  },
  {
   "cell_type": "code",
   "execution_count": 22,
   "metadata": {},
   "outputs": [
    {
     "name": "stdout",
     "output_type": "stream",
     "text": [
      "Accuracy: 0.469600\n",
      "Total: 10000\n"
     ]
    }
   ],
   "source": [
    "val_loader = torch.utils.data.DataLoader(cifar10_val, batch_size=64,\n",
    "                                         shuffle=False)\n",
    "\n",
    "correct = 0\n",
    "total = 0\n",
    "\n",
    "with torch.no_grad():\n",
    "    for imgs, labels in val_loader:\n",
    "        outputs = model(imgs.view(imgs.shape[0], -1))\n",
    "        _, predicted = torch.max(outputs, dim=1)\n",
    "        total += labels.shape[0]\n",
    "        correct += int((predicted == labels).sum())\n",
    "        \n",
    "print(\"Accuracy: %f\" % (correct / total))\n",
    "print(\"Total:\", total)"
   ]
  },
  {
   "cell_type": "code",
   "execution_count": null,
   "metadata": {},
   "outputs": [],
   "source": []
  }
 ],
 "metadata": {
  "kernelspec": {
   "display_name": "Python 3 (ipykernel)",
   "language": "python",
   "name": "python3"
  },
  "language_info": {
   "codemirror_mode": {
    "name": "ipython",
    "version": 3
   },
   "file_extension": ".py",
   "mimetype": "text/x-python",
   "name": "python",
   "nbconvert_exporter": "python",
   "pygments_lexer": "ipython3",
   "version": "3.9.12"
  },
  "vscode": {
   "interpreter": {
    "hash": "77aa5c7a8032890130e9a412da4828609b1dfa25c62620094c03af7a5cea44b0"
   }
  }
 },
 "nbformat": 4,
 "nbformat_minor": 4
}
