{
 "cells": [
  {
   "cell_type": "markdown",
   "metadata": {},
   "source": [
    "# Fully Connected NN (Question 1a)"
   ]
  },
  {
   "cell_type": "code",
   "execution_count": 1,
   "metadata": {},
   "outputs": [],
   "source": [
    "import matplotlib.pyplot as plt\n",
    "import torch\n",
    "from torchvision import transforms\n"
   ]
  },
  {
   "cell_type": "code",
   "execution_count": 2,
   "metadata": {},
   "outputs": [
    {
     "name": "stdout",
     "output_type": "stream",
     "text": [
      "Is CUDA supported by this system? True\n",
      "CUDA version: 11.7\n",
      "ID of current CUDA device: 0\n"
     ]
    }
   ],
   "source": [
    "print(f\"Is CUDA supported by this system? {torch.cuda.is_available()}\")\n",
    "print(f\"CUDA version: {torch.version.cuda}\")\n",
    "\n",
    "# Storing ID of current CUDA device\n",
    "cuda_id = torch.cuda.current_device()\n",
    "print(f\"ID of current CUDA device: {torch.cuda.current_device()}\")\n",
    "# print(f\"Name of current CUDA device: {torch.cuda.get_device_name(cuda_id)}\")\n",
    "\n",
    "# Making the code device-agnostic\n",
    "device = 'cuda' if torch.cuda.is_available() else 'cpu'"
   ]
  },
  {
   "cell_type": "code",
   "execution_count": 3,
   "metadata": {},
   "outputs": [],
   "source": [
    "save_path = 'models/'\n",
    "sub_name = '_cuda'\n",
    "\n",
    "batch_size = 1000"
   ]
  },
  {
   "cell_type": "markdown",
   "metadata": {},
   "source": [
    "# Import Data"
   ]
  },
  {
   "cell_type": "code",
   "execution_count": 4,
   "metadata": {},
   "outputs": [
    {
     "name": "stdout",
     "output_type": "stream",
     "text": [
      "Files already downloaded and verified\n",
      "Files already downloaded and verified\n"
     ]
    }
   ],
   "source": [
    "from torchvision import datasets\n",
    "data_path = '../dataset/cifar10'\n",
    "cifar10     = datasets.CIFAR10(data_path, train=True , download=True)\n",
    "cifar10_val = datasets.CIFAR10(data_path, train=False, download=True)"
   ]
  },
  {
   "cell_type": "code",
   "execution_count": 5,
   "metadata": {},
   "outputs": [],
   "source": [
    "cifar10_map = {\n",
    "    0: \"airplane\",\n",
    "    1: \"automobile\",\n",
    "    2: \"bird\",\n",
    "    3: \"cat\",\n",
    "    4: \"deer\",\n",
    "    5: \"dog\",\n",
    "    6: \"frog\",\n",
    "    7: \"horse\",\n",
    "    8: \"ship\",\n",
    "    9: \"truck\"\n",
    "}\n",
    "sample_image = 70"
   ]
  },
  {
   "cell_type": "markdown",
   "metadata": {},
   "source": [
    "## verify data"
   ]
  },
  {
   "cell_type": "code",
   "execution_count": 6,
   "metadata": {},
   "outputs": [
    {
     "name": "stdout",
     "output_type": "stream",
     "text": [
      "5 : dog\n",
      "  <PIL.Image.Image image mode=RGB size=32x32 at 0x23EF9DD0250>\n"
     ]
    },
    {
     "data": {
      "image/png": "[encoded data removed]",
      "text/plain": [
       "<Figure size 432x288 with 1 Axes>"
      ]
     },
     "metadata": {
      "needs_background": "light"
     },
     "output_type": "display_data"
    }
   ],
   "source": [
    "img, label = cifar10[sample_image]\n",
    "print(f'{label} : {cifar10_map[label]}\\n  {img}')\n",
    "plt.imshow(img)\n",
    "plt.show()"
   ]
  },
  {
   "cell_type": "code",
   "execution_count": 7,
   "metadata": {},
   "outputs": [
    {
     "data": {
      "text/plain": [
       "torch.Size([3, 32, 32])"
      ]
     },
     "execution_count": 7,
     "metadata": {},
     "output_type": "execute_result"
    }
   ],
   "source": [
    "to_tensor = transforms.ToTensor()\n",
    "img_t = to_tensor(img)\n",
    "img_t.shape"
   ]
  },
  {
   "cell_type": "code",
   "execution_count": 8,
   "metadata": {},
   "outputs": [
    {
     "data": {
      "image/png": "[encoded data removed]",
      "text/plain": [
       "<Figure size 432x288 with 1 Axes>"
      ]
     },
     "metadata": {
      "needs_background": "light"
     },
     "output_type": "display_data"
    }
   ],
   "source": [
    "plt.imshow(img_t.permute(1, 2, 0))  # <1>\n",
    "plt.show()"
   ]
  },
  {
   "cell_type": "markdown",
   "metadata": {},
   "source": [
    "# get std deviation and mean"
   ]
  },
  {
   "cell_type": "code",
   "execution_count": 9,
   "metadata": {},
   "outputs": [],
   "source": [
    "tensor_cifar10 = datasets.CIFAR10(data_path, train=True, download=False,\n",
    "                          transform=transforms.ToTensor())"
   ]
  },
  {
   "cell_type": "code",
   "execution_count": 10,
   "metadata": {},
   "outputs": [
    {
     "data": {
      "text/plain": [
       "torch.Size([3, 32, 32, 50000])"
      ]
     },
     "execution_count": 10,
     "metadata": {},
     "output_type": "execute_result"
    }
   ],
   "source": [
    "imgs = torch.stack([img_t for img_t, _ in tensor_cifar10], dim=3)\n",
    "imgs.shape"
   ]
  },
  {
   "cell_type": "code",
   "execution_count": 11,
   "metadata": {},
   "outputs": [
    {
     "name": "stdout",
     "output_type": "stream",
     "text": [
      "mean = tensor([0.4914, 0.4822, 0.4465])\n",
      "std = tensor([0.2470, 0.2435, 0.2616])\n"
     ]
    }
   ],
   "source": [
    "data_mean = imgs.view(3, -1).mean(dim=1)\n",
    "data_std  = imgs.view(3, -1).std(dim=1)\n",
    "\n",
    "print(f'mean = {data_mean}')\n",
    "print(f'std = {data_std}')"
   ]
  },
  {
   "cell_type": "code",
   "execution_count": 12,
   "metadata": {},
   "outputs": [
    {
     "data": {
      "text/plain": [
       "Normalize(mean=tensor([0.4914, 0.4822, 0.4465]), std=tensor([0.2470, 0.2435, 0.2616]))"
      ]
     },
     "execution_count": 12,
     "metadata": {},
     "output_type": "execute_result"
    }
   ],
   "source": [
    "transforms.Normalize(data_mean, data_std)"
   ]
  },
  {
   "cell_type": "markdown",
   "metadata": {},
   "source": [
    "# Better import  "
   ]
  },
  {
   "cell_type": "code",
   "execution_count": 13,
   "metadata": {},
   "outputs": [
    {
     "name": "stdout",
     "output_type": "stream",
     "text": [
      "deleted\n"
     ]
    }
   ],
   "source": [
    "# to save memory\n",
    "del cifar10, cifar10_val, tensor_cifar10, imgs\n",
    "try:\n",
    "    cifar10[0]\n",
    "    print(\"not deleted\")\n",
    "except:\n",
    "    print(\"deleted\")"
   ]
  },
  {
   "cell_type": "code",
   "execution_count": 14,
   "metadata": {},
   "outputs": [],
   "source": [
    "cifar10 = datasets.CIFAR10(\n",
    "    data_path, train=True, download=False,\n",
    "    transform=transforms.Compose([\n",
    "        transforms.ToTensor(),\n",
    "        transforms.Normalize(data_mean, # mean of entire dataset\n",
    "                             data_std) # std deviation of entire dataset\n",
    "    ]))"
   ]
  },
  {
   "cell_type": "code",
   "execution_count": 15,
   "metadata": {},
   "outputs": [],
   "source": [
    "cifar10_val = datasets.CIFAR10(\n",
    "    data_path, train=False, download=False,\n",
    "    transform=transforms.Compose([\n",
    "        transforms.ToTensor(),\n",
    "        transforms.Normalize(data_mean, data_std)\n",
    "    ]))"
   ]
  },
  {
   "cell_type": "markdown",
   "metadata": {},
   "source": [
    "## verify data"
   ]
  },
  {
   "cell_type": "code",
   "execution_count": 16,
   "metadata": {},
   "outputs": [
    {
     "name": "stderr",
     "output_type": "stream",
     "text": [
      "Clipping input data to the valid range for imshow with RGB data ([0..1] for floats or [0..255] for integers).\n"
     ]
    },
    {
     "data": {
      "image/png": "[encoded data removed]",
      "text/plain": [
       "<Figure size 432x288 with 1 Axes>"
      ]
     },
     "metadata": {
      "needs_background": "light"
     },
     "output_type": "display_data"
    },
    {
     "name": "stdout",
     "output_type": "stream",
     "text": [
      "torch.Size([3, 32, 32])\n"
     ]
    },
    {
     "data": {
      "text/plain": [
       "3072"
      ]
     },
     "execution_count": 16,
     "metadata": {},
     "output_type": "execute_result"
    }
   ],
   "source": [
    "img, label = cifar10[sample_image]\n",
    "\n",
    "plt.imshow(img.permute(1, 2, 0))\n",
    "plt.show()\n",
    "\n",
    "print(img.shape)\n",
    "torch.numel(img)"
   ]
  },
  {
   "cell_type": "markdown",
   "metadata": {},
   "source": [
    "# 1 layer NN\n",
    "part a"
   ]
  },
  {
   "cell_type": "markdown",
   "metadata": {},
   "source": [
    "## Setup"
   ]
  },
  {
   "cell_type": "code",
   "execution_count": 17,
   "metadata": {},
   "outputs": [
    {
     "data": {
      "text/plain": [
       "Sequential(\n",
       "  (hidden_layer): Linear(in_features=3072, out_features=512, bias=True)\n",
       "  (hidden_activation): Tanh()\n",
       "  (output): Linear(in_features=512, out_features=10, bias=True)\n",
       "  (softmax): LogSoftmax(dim=1)\n",
       ")"
      ]
     },
     "execution_count": 17,
     "metadata": {},
     "output_type": "execute_result"
    }
   ],
   "source": [
    "import torch.nn as nn\n",
    "from collections import OrderedDict\n",
    "\n",
    "\n",
    "n_in = torch.numel(img)  # Number of elements in 3 x 32 x 32 image\n",
    "                         # IE.  3072\n",
    "n_out = len(cifar10_map) # number of possible outputs\n",
    "                         # IE.  10\n",
    "n_inner = 512 \n",
    "\n",
    "\n",
    "model1 = nn.Sequential(OrderedDict([\n",
    "        (\"hidden_layer\",\n",
    "        nn.Linear(\n",
    "            n_in,\n",
    "            512,   \n",
    "        )),\n",
    "        (\"hidden_activation\",\n",
    "        nn.Tanh()\n",
    "        ),\n",
    "        (\"output\",\n",
    "        nn.Linear(\n",
    "            512,   \n",
    "            n_out, \n",
    "        )),\n",
    "        (\"softmax\",\n",
    "        nn.LogSoftmax(dim=1)\n",
    "        ),\n",
    "    ]))\n",
    "model = model1.to(device)\n",
    "model"
   ]
  },
  {
   "cell_type": "code",
   "execution_count": 18,
   "metadata": {},
   "outputs": [],
   "source": [
    "loss = nn.NLLLoss()\n",
    "loss = loss.to(device)"
   ]
  },
  {
   "cell_type": "markdown",
   "metadata": {},
   "source": [
    "## setup test"
   ]
  },
  {
   "cell_type": "code",
   "execution_count": 19,
   "metadata": {},
   "outputs": [
    {
     "data": {
      "text/plain": [
       "tensor(2.3637, device='cuda:0', grad_fn=<NllLossBackward0>)"
      ]
     },
     "execution_count": 19,
     "metadata": {},
     "output_type": "execute_result"
    }
   ],
   "source": [
    "img, label = cifar10[sample_image]\n",
    "label = torch.tensor([label])\n",
    "\n",
    "# CUDA support\n",
    "img = img.to(device)\n",
    "label = label.to(device)\n",
    "\n",
    "out = model(img.view(-1).unsqueeze(0))\n",
    "\n",
    "loss(out, label)"
   ]
  },
  {
   "attachments": {},
   "cell_type": "markdown",
   "metadata": {},
   "source": [
    "## full data\n",
    "ie train without minibatches\n",
    "left in raw text to preserve"
   ]
  },
  {
   "cell_type": "markdown",
   "metadata": {},
   "source": [
    "### training function"
   ]
  },
  {
   "cell_type": "raw",
   "metadata": {},
   "source": [
    "import time\n",
    "\n",
    "def training(img_data, loss_fn, optimizer, n_epochs:int, report_period:int = 10):\n",
    "    for epoch in range(n_epochs):\n",
    "        start = time.time()\n",
    "        \n",
    "        for img, label in img_data:\n",
    "            out = model(img.view(-1).unsqueeze(0))\n",
    "            loss = loss_fn(out, torch.tensor([label]))\n",
    "                    \n",
    "            optimizer.zero_grad()\n",
    "            loss.backward()\n",
    "            optimizer.step()\n",
    "\n",
    "        end = time.time()\n",
    "        if ((epoch % report_period) == 0) or (epoch == n_epochs):\n",
    "            print(f\"Epoch: {epoch}, Loss: {float(loss):.5f}, Time: {end-start:.2f} s\")"
   ]
  },
  {
   "cell_type": "markdown",
   "metadata": {},
   "source": [
    "### training"
   ]
  },
  {
   "cell_type": "raw",
   "metadata": {},
   "source": [
    "learning_rate = 1e-2\n",
    "\n",
    "optimizer = torch.optim.SGD(model.parameters(), lr=learning_rate)\n",
    "\n",
    "loss_fn = nn.NLLLoss()\n",
    "\n",
    "n_epochs = 300"
   ]
  },
  {
   "cell_type": "raw",
   "metadata": {},
   "source": [
    "training(cifar10, \n",
    "         loss_fn, \n",
    "         optimizer, \n",
    "         n_epochs,\n",
    "         report_period=1\n",
    "         )"
   ]
  },
  {
   "cell_type": "markdown",
   "metadata": {},
   "source": [
    "## mini batches\n"
   ]
  },
  {
   "cell_type": "markdown",
   "metadata": {},
   "source": [
    "### training function"
   ]
  },
  {
   "cell_type": "code",
   "execution_count": 20,
   "metadata": {},
   "outputs": [],
   "source": [
    "import time\n",
    "\n",
    "def training(training_imgs, loss_fn, optimizer, n_epochs:int, report_period:int = 10):\n",
    "    sum_time = 0\n",
    "    for epoch in range(n_epochs + 1):\n",
    "        start = time.time()\n",
    "        \n",
    "        for img, label in training_imgs:\n",
    "            # cuda support\n",
    "            img = img.to(device)\n",
    "            label = label.to(device)\n",
    "            \n",
    "            out = model(img.view(img.shape[0], -1))\n",
    "            loss = loss_fn(out, label)\n",
    "                    \n",
    "            optimizer.zero_grad()\n",
    "            loss.backward()\n",
    "            optimizer.step()\n",
    "\n",
    "        sum_time += time.time() - start\n",
    "        if ((epoch % report_period) == 0) or (epoch == n_epochs - 1):\n",
    "            print(f\"Epoch: {epoch}\\t Loss: {float(loss):.12f}\\t AvgTime: {sum_time/(epoch+1):.2f} s\")"
   ]
  },
  {
   "cell_type": "markdown",
   "metadata": {},
   "source": [
    "### training"
   ]
  },
  {
   "cell_type": "code",
   "execution_count": 21,
   "metadata": {},
   "outputs": [
    {
     "data": {
      "text/plain": [
       "Sequential(\n",
       "  (hidden_layer): Linear(in_features=3072, out_features=512, bias=True)\n",
       "  (hidden_activation): Tanh()\n",
       "  (output): Linear(in_features=512, out_features=10, bias=True)\n",
       "  (softmax): LogSoftmax(dim=1)\n",
       ")"
      ]
     },
     "execution_count": 21,
     "metadata": {},
     "output_type": "execute_result"
    }
   ],
   "source": [
    "train_loader = torch.utils.data.DataLoader(\n",
    "                    cifar10, \n",
    "                    batch_size=batch_size,\n",
    "                    shuffle=True\n",
    "                    )\n",
    "\n",
    "learning_rate = 1e-2\n",
    "\n",
    "optimizer = torch.optim.SGD(model.parameters(), lr=learning_rate)\n",
    "\n",
    "loss_fn = nn.NLLLoss()\n",
    "loss_fn = loss_fn.to(device)\n",
    "\n",
    "n_epochs = 300\n",
    "\n",
    "model"
   ]
  },
  {
   "cell_type": "code",
   "execution_count": 22,
   "metadata": {},
   "outputs": [
    {
     "name": "stdout",
     "output_type": "stream",
     "text": [
      "Epoch: 0\t Loss: 1.951841115952\t AvgTime: 13.02 s\n",
      "Epoch: 5\t Loss: 1.754080176353\t AvgTime: 13.28 s\n",
      "Epoch: 10\t Loss: 1.739298939705\t AvgTime: 13.73 s\n",
      "Epoch: 15\t Loss: 1.697387337685\t AvgTime: 13.71 s\n",
      "Epoch: 20\t Loss: 1.709312558174\t AvgTime: 13.62 s\n",
      "Epoch: 25\t Loss: 1.655572652817\t AvgTime: 13.58 s\n",
      "Epoch: 30\t Loss: 1.632324337959\t AvgTime: 13.59 s\n",
      "Epoch: 35\t Loss: 1.614594459534\t AvgTime: 13.52 s\n",
      "Epoch: 40\t Loss: 1.579961776733\t AvgTime: 13.53 s\n",
      "Epoch: 45\t Loss: 1.573243737221\t AvgTime: 13.51 s\n",
      "Epoch: 50\t Loss: 1.569489717484\t AvgTime: 13.58 s\n",
      "Epoch: 55\t Loss: 1.524672746658\t AvgTime: 13.55 s\n",
      "Epoch: 60\t Loss: 1.530169487000\t AvgTime: 13.53 s\n",
      "Epoch: 65\t Loss: 1.463593840599\t AvgTime: 13.52 s\n",
      "Epoch: 70\t Loss: 1.468580484390\t AvgTime: 13.50 s\n",
      "Epoch: 75\t Loss: 1.492333054543\t AvgTime: 13.52 s\n",
      "Epoch: 80\t Loss: 1.498795747757\t AvgTime: 13.55 s\n",
      "Epoch: 85\t Loss: 1.443900346756\t AvgTime: 13.54 s\n",
      "Epoch: 90\t Loss: 1.419735431671\t AvgTime: 13.53 s\n",
      "Epoch: 95\t Loss: 1.447640419006\t AvgTime: 13.53 s\n",
      "Epoch: 100\t Loss: 1.403634786606\t AvgTime: 13.53 s\n",
      "Epoch: 105\t Loss: 1.436100244522\t AvgTime: 13.56 s\n",
      "Epoch: 110\t Loss: 1.319745302200\t AvgTime: 13.56 s\n",
      "Epoch: 115\t Loss: 1.408160448074\t AvgTime: 13.55 s\n",
      "Epoch: 120\t Loss: 1.388442754745\t AvgTime: 13.55 s\n",
      "Epoch: 125\t Loss: 1.265345811844\t AvgTime: 13.54 s\n",
      "Epoch: 130\t Loss: 1.332890510559\t AvgTime: 13.56 s\n",
      "Epoch: 135\t Loss: 1.332507014275\t AvgTime: 13.56 s\n",
      "Epoch: 140\t Loss: 1.331787586212\t AvgTime: 13.58 s\n",
      "Epoch: 145\t Loss: 1.289427280426\t AvgTime: 13.57 s\n",
      "Epoch: 150\t Loss: 1.296904921532\t AvgTime: 13.56 s\n",
      "Epoch: 155\t Loss: 1.261115312576\t AvgTime: 13.55 s\n",
      "Epoch: 160\t Loss: 1.216871023178\t AvgTime: 13.54 s\n",
      "Epoch: 165\t Loss: 1.265858769417\t AvgTime: 13.53 s\n",
      "Epoch: 170\t Loss: 1.189794063568\t AvgTime: 13.52 s\n",
      "Epoch: 175\t Loss: 1.161367058754\t AvgTime: 13.51 s\n",
      "Epoch: 180\t Loss: 1.169982671738\t AvgTime: 13.50 s\n",
      "Epoch: 185\t Loss: 1.145187973976\t AvgTime: 13.50 s\n",
      "Epoch: 190\t Loss: 1.184890389442\t AvgTime: 13.49 s\n",
      "Epoch: 195\t Loss: 1.148971438408\t AvgTime: 13.48 s\n",
      "Epoch: 200\t Loss: 1.128064393997\t AvgTime: 13.48 s\n",
      "Epoch: 205\t Loss: 1.041781783104\t AvgTime: 13.47 s\n",
      "Epoch: 210\t Loss: 1.119354486465\t AvgTime: 13.47 s\n",
      "Epoch: 215\t Loss: 1.095671057701\t AvgTime: 13.47 s\n",
      "Epoch: 220\t Loss: 1.058232426643\t AvgTime: 13.46 s\n",
      "Epoch: 225\t Loss: 1.050144314766\t AvgTime: 13.46 s\n",
      "Epoch: 230\t Loss: 1.058368563652\t AvgTime: 13.45 s\n",
      "Epoch: 235\t Loss: 1.043160319328\t AvgTime: 13.45 s\n",
      "Epoch: 240\t Loss: 1.009890675545\t AvgTime: 13.44 s\n",
      "Epoch: 245\t Loss: 0.965144395828\t AvgTime: 13.44 s\n",
      "Epoch: 250\t Loss: 0.963598012924\t AvgTime: 13.43 s\n",
      "Epoch: 255\t Loss: 0.992646336555\t AvgTime: 13.42 s\n",
      "Epoch: 260\t Loss: 0.980959534645\t AvgTime: 13.42 s\n",
      "Epoch: 265\t Loss: 0.980221450329\t AvgTime: 13.41 s\n",
      "Epoch: 270\t Loss: 0.918969154358\t AvgTime: 13.41 s\n",
      "Epoch: 275\t Loss: 0.895456731319\t AvgTime: 13.40 s\n",
      "Epoch: 280\t Loss: 0.888936042786\t AvgTime: 13.40 s\n",
      "Epoch: 285\t Loss: 0.898626267910\t AvgTime: 13.39 s\n",
      "Epoch: 290\t Loss: 0.872213304043\t AvgTime: 13.39 s\n",
      "Epoch: 295\t Loss: 0.858192980289\t AvgTime: 13.38 s\n",
      "Epoch: 299\t Loss: 0.844656288624\t AvgTime: 13.38 s\n",
      "Epoch: 300\t Loss: 0.902186870575\t AvgTime: 13.38 s\n"
     ]
    }
   ],
   "source": [
    "training(train_loader, \n",
    "         loss_fn, \n",
    "         optimizer, \n",
    "         n_epochs,\n",
    "         report_period=5\n",
    "         )"
   ]
  },
  {
   "cell_type": "code",
   "execution_count": 23,
   "metadata": {},
   "outputs": [],
   "source": [
    "torch.save(model.state_dict(), save_path + f'1_layer_fnn{sub_name}.pt')"
   ]
  },
  {
   "cell_type": "code",
   "execution_count": 24,
   "metadata": {},
   "outputs": [
    {
     "data": {
      "text/plain": [
       "<All keys matched successfully>"
      ]
     },
     "execution_count": 24,
     "metadata": {},
     "output_type": "execute_result"
    }
   ],
   "source": [
    "load_model = model1\n",
    "load_model = load_model.to(device)\n",
    "load_model.load_state_dict(torch.load(save_path + f'1_layer_fnn{sub_name}.pt'))"
   ]
  },
  {
   "cell_type": "code",
   "execution_count": 25,
   "metadata": {},
   "outputs": [],
   "source": [
    "def accuracy(model, data):\n",
    "    correct = 0\n",
    "    total = 0\n",
    "\n",
    "    with torch.no_grad():\n",
    "        for imgs, labels in data:\n",
    "            # cuda support\n",
    "            imgs = imgs.to(device)\n",
    "            labels = labels.to(device)\n",
    "            \n",
    "            outputs = model(imgs.view(imgs.shape[0], -1))\n",
    "            _, predicted = torch.max(outputs, dim=1)\n",
    "            total += labels.shape[0]\n",
    "            correct += int((predicted == labels).sum())\n",
    "\n",
    "    print(\"Total:\", total)\n",
    "    print(\"Accuracy: %f\" % (correct / total))"
   ]
  },
  {
   "cell_type": "code",
   "execution_count": 26,
   "metadata": {},
   "outputs": [
    {
     "name": "stdout",
     "output_type": "stream",
     "text": [
      "Total: 50000\n",
      "Accuracy: 0.759400\n"
     ]
    }
   ],
   "source": [
    "train_loader = torch.utils.data.DataLoader(cifar10, batch_size=64,\n",
    "                                           shuffle=False)\n",
    "accuracy(load_model, train_loader)"
   ]
  },
  {
   "cell_type": "code",
   "execution_count": 27,
   "metadata": {},
   "outputs": [
    {
     "name": "stdout",
     "output_type": "stream",
     "text": [
      "Total: 10000\n",
      "Accuracy: 0.499300\n"
     ]
    }
   ],
   "source": [
    "val_loader = torch.utils.data.DataLoader(cifar10_val, batch_size=64,\n",
    "                                         shuffle=False)\n",
    "accuracy(load_model, val_loader)"
   ]
  },
  {
   "attachments": {},
   "cell_type": "markdown",
   "metadata": {},
   "source": [
    "# 2 layer model"
   ]
  },
  {
   "cell_type": "code",
   "execution_count": 28,
   "metadata": {},
   "outputs": [
    {
     "data": {
      "text/plain": [
       "Sequential(\n",
       "  (input_layer): Linear(in_features=3072, out_features=1024, bias=True)\n",
       "  (hidden_activation_1): Tanh()\n",
       "  (hidden_layer_1): Linear(in_features=1024, out_features=512, bias=True)\n",
       "  (hidden_layer_2): Linear(in_features=512, out_features=256, bias=True)\n",
       "  (output): Linear(in_features=256, out_features=10, bias=True)\n",
       ")"
      ]
     },
     "execution_count": 28,
     "metadata": {},
     "output_type": "execute_result"
    }
   ],
   "source": [
    "n_in = torch.numel(img)  # Number of elements in 3 x 32 x 32 image\n",
    "                         # IE.  3072\n",
    "n_out = len(cifar10_map) # number of possible outputs\n",
    "                         # IE.  10\n",
    "\n",
    "n_inner_1 = n_in // 3\n",
    "n_inner_2 = n_inner_1 // 2\n",
    "n_inner_3 = n_inner_2 // 2\n",
    "\n",
    "\n",
    "model2 = nn.Sequential(OrderedDict([\n",
    "        (\n",
    "        \"input_layer\",\n",
    "        nn.Linear(n_in, n_inner_1)\n",
    "        ),\n",
    "        (\n",
    "        \"hidden_activation_1\",\n",
    "        nn.Tanh()\n",
    "        ),\n",
    "        (\n",
    "        \"hidden_layer_1\",\n",
    "        nn.Linear(n_inner_1, n_inner_2)\n",
    "        ),\n",
    "        (\n",
    "        \"hidden_activation_1\",\n",
    "        nn.Tanh()\n",
    "        ),\n",
    "        (\n",
    "        \"hidden_layer_2\",\n",
    "        nn.Linear(n_inner_2, n_inner_3)\n",
    "        ),\n",
    "        (\n",
    "        \"hidden_activation_1\",\n",
    "        nn.Tanh()\n",
    "        ),\n",
    "        (\n",
    "        \"output\",\n",
    "        nn.Linear(n_inner_3, n_out)\n",
    "        )\n",
    "    ]))\n",
    "model = model2.to(device)\n",
    "model"
   ]
  },
  {
   "cell_type": "code",
   "execution_count": 29,
   "metadata": {},
   "outputs": [
    {
     "data": {
      "text/plain": [
       "Sequential(\n",
       "  (input_layer): Linear(in_features=3072, out_features=1024, bias=True)\n",
       "  (hidden_activation_1): Tanh()\n",
       "  (hidden_layer_1): Linear(in_features=1024, out_features=512, bias=True)\n",
       "  (hidden_layer_2): Linear(in_features=512, out_features=256, bias=True)\n",
       "  (output): Linear(in_features=256, out_features=10, bias=True)\n",
       ")"
      ]
     },
     "execution_count": 29,
     "metadata": {},
     "output_type": "execute_result"
    }
   ],
   "source": [
    "train_loader = torch.utils.data.DataLoader(\n",
    "                    cifar10, \n",
    "                    batch_size=batch_size,\n",
    "                    shuffle=True\n",
    "                    )\n",
    "\n",
    "learning_rate = 1e-2\n",
    "\n",
    "optimizer = torch.optim.SGD(model.parameters(), lr=learning_rate)\n",
    "\n",
    "loss = nn.CrossEntropyLoss()\n",
    "loss_fn = loss_fn.to(device)\n",
    "\n",
    "n_epochs = 300\n",
    "\n",
    "model"
   ]
  },
  {
   "cell_type": "code",
   "execution_count": 30,
   "metadata": {},
   "outputs": [
    {
     "name": "stdout",
     "output_type": "stream",
     "text": [
      "Epoch: 0\t Loss: 2.126040935516\t AvgTime: 12.25 s\n",
      "Epoch: 5\t Loss: 1.913908362389\t AvgTime: 12.21 s\n",
      "Epoch: 10\t Loss: 1.821736454964\t AvgTime: 12.11 s\n",
      "Epoch: 15\t Loss: 1.766131162643\t AvgTime: 12.13 s\n",
      "Epoch: 20\t Loss: 1.727825760841\t AvgTime: 12.11 s\n",
      "Epoch: 25\t Loss: 1.710204362869\t AvgTime: 12.11 s\n",
      "Epoch: 30\t Loss: 1.637035250664\t AvgTime: 12.11 s\n",
      "Epoch: 35\t Loss: 1.628399014473\t AvgTime: 12.11 s\n",
      "Epoch: 40\t Loss: 1.645638108253\t AvgTime: 12.10 s\n",
      "Epoch: 45\t Loss: 1.650334119797\t AvgTime: 12.11 s\n",
      "Epoch: 50\t Loss: 1.563534736633\t AvgTime: 12.11 s\n",
      "Epoch: 55\t Loss: 1.640658617020\t AvgTime: 12.12 s\n",
      "Epoch: 60\t Loss: 1.552963972092\t AvgTime: 12.13 s\n",
      "Epoch: 65\t Loss: 1.593980908394\t AvgTime: 12.13 s\n",
      "Epoch: 70\t Loss: 1.572784900665\t AvgTime: 12.13 s\n",
      "Epoch: 75\t Loss: 1.560736060143\t AvgTime: 12.14 s\n",
      "Epoch: 80\t Loss: 1.473863244057\t AvgTime: 12.13 s\n",
      "Epoch: 85\t Loss: 1.423075675964\t AvgTime: 12.13 s\n",
      "Epoch: 90\t Loss: 1.454528093338\t AvgTime: 12.13 s\n",
      "Epoch: 95\t Loss: 1.422215104103\t AvgTime: 12.12 s\n",
      "Epoch: 100\t Loss: 1.405900716782\t AvgTime: 12.12 s\n",
      "Epoch: 105\t Loss: 1.340031862259\t AvgTime: 12.12 s\n",
      "Epoch: 110\t Loss: 1.363892793655\t AvgTime: 12.11 s\n",
      "Epoch: 115\t Loss: 1.293556690216\t AvgTime: 12.11 s\n",
      "Epoch: 120\t Loss: 1.331470251083\t AvgTime: 12.11 s\n",
      "Epoch: 125\t Loss: 1.173537015915\t AvgTime: 12.11 s\n",
      "Epoch: 130\t Loss: 1.225663781166\t AvgTime: 12.11 s\n",
      "Epoch: 135\t Loss: 1.251714110374\t AvgTime: 12.11 s\n",
      "Epoch: 140\t Loss: 1.167972683907\t AvgTime: 12.12 s\n",
      "Epoch: 145\t Loss: 1.152034878731\t AvgTime: 12.11 s\n",
      "Epoch: 150\t Loss: 1.298952221870\t AvgTime: 12.11 s\n",
      "Epoch: 155\t Loss: 1.120241403580\t AvgTime: 12.11 s\n",
      "Epoch: 160\t Loss: 1.106860876083\t AvgTime: 12.11 s\n",
      "Epoch: 165\t Loss: 1.062062978745\t AvgTime: 12.11 s\n",
      "Epoch: 170\t Loss: 1.012754440308\t AvgTime: 12.11 s\n",
      "Epoch: 175\t Loss: 2.221180677414\t AvgTime: 12.11 s\n",
      "Epoch: 180\t Loss: 1.033520221710\t AvgTime: 12.11 s\n",
      "Epoch: 185\t Loss: 0.957541942596\t AvgTime: 12.11 s\n",
      "Epoch: 190\t Loss: 0.845229148865\t AvgTime: 12.11 s\n",
      "Epoch: 195\t Loss: 0.898521184921\t AvgTime: 12.11 s\n",
      "Epoch: 200\t Loss: 0.798887252808\t AvgTime: 12.11 s\n",
      "Epoch: 205\t Loss: 0.774146556854\t AvgTime: 12.11 s\n",
      "Epoch: 210\t Loss: 0.771070420742\t AvgTime: 12.11 s\n",
      "Epoch: 215\t Loss: 1.048965930939\t AvgTime: 12.11 s\n",
      "Epoch: 220\t Loss: 0.757949292660\t AvgTime: 12.11 s\n",
      "Epoch: 225\t Loss: 0.807159721851\t AvgTime: 12.11 s\n",
      "Epoch: 230\t Loss: 0.943925082684\t AvgTime: 12.11 s\n",
      "Epoch: 235\t Loss: 0.676865458488\t AvgTime: 12.11 s\n",
      "Epoch: 240\t Loss: 0.593601822853\t AvgTime: 12.12 s\n",
      "Epoch: 245\t Loss: 0.590174555779\t AvgTime: 12.11 s\n",
      "Epoch: 250\t Loss: 1.891707539558\t AvgTime: 12.12 s\n",
      "Epoch: 255\t Loss: 0.576287627220\t AvgTime: 12.12 s\n",
      "Epoch: 260\t Loss: 0.494274795055\t AvgTime: 12.12 s\n",
      "Epoch: 265\t Loss: 0.505503118038\t AvgTime: 12.12 s\n",
      "Epoch: 270\t Loss: 0.730936527252\t AvgTime: 12.12 s\n",
      "Epoch: 275\t Loss: 2.959371566772\t AvgTime: 12.12 s\n",
      "Epoch: 280\t Loss: 0.421204149723\t AvgTime: 12.12 s\n",
      "Epoch: 285\t Loss: 0.363814890385\t AvgTime: 12.12 s\n",
      "Epoch: 290\t Loss: 3.049864292145\t AvgTime: 12.12 s\n",
      "Epoch: 295\t Loss: 0.383843392134\t AvgTime: 12.12 s\n",
      "Epoch: 299\t Loss: 0.345893740654\t AvgTime: 12.12 s\n",
      "Epoch: 300\t Loss: 0.365982472897\t AvgTime: 12.12 s\n"
     ]
    }
   ],
   "source": [
    "training(train_loader, \n",
    "         loss, \n",
    "         optimizer, \n",
    "         n_epochs,\n",
    "         report_period=5\n",
    "         )"
   ]
  },
  {
   "cell_type": "code",
   "execution_count": 31,
   "metadata": {},
   "outputs": [],
   "source": [
    "torch.save(model.state_dict(), save_path + f'3_layer_fnn{sub_name}.pt')"
   ]
  },
  {
   "cell_type": "code",
   "execution_count": 32,
   "metadata": {},
   "outputs": [
    {
     "data": {
      "text/plain": [
       "<All keys matched successfully>"
      ]
     },
     "execution_count": 32,
     "metadata": {},
     "output_type": "execute_result"
    }
   ],
   "source": [
    "load_model = model2\n",
    "load_model = load_model.to(device)\n",
    "load_model.load_state_dict(torch.load(save_path + f'3_layer_fnn{sub_name}.pt'))"
   ]
  },
  {
   "cell_type": "code",
   "execution_count": 33,
   "metadata": {},
   "outputs": [
    {
     "name": "stdout",
     "output_type": "stream",
     "text": [
      "Total: 50000\n",
      "Accuracy: 0.924040\n"
     ]
    }
   ],
   "source": [
    "train_loader = torch.utils.data.DataLoader(cifar10, batch_size=64,\n",
    "                                           shuffle=False)\n",
    "accuracy(load_model, train_loader)"
   ]
  },
  {
   "cell_type": "code",
   "execution_count": 34,
   "metadata": {},
   "outputs": [
    {
     "name": "stdout",
     "output_type": "stream",
     "text": [
      "Total: 10000\n",
      "Accuracy: 0.470500\n"
     ]
    }
   ],
   "source": [
    "val_loader = torch.utils.data.DataLoader(cifar10_val, batch_size=64,\n",
    "                                         shuffle=False)\n",
    "accuracy(load_model, val_loader)"
   ]
  },
  {
   "cell_type": "code",
   "execution_count": null,
   "metadata": {},
   "outputs": [],
   "source": []
  }
 ],
 "metadata": {
  "kernelspec": {
   "display_name": "Python 3 (ipykernel)",
   "language": "python",
   "name": "python3"
  },
  "language_info": {
   "codemirror_mode": {
    "name": "ipython",
    "version": 3
   },
   "file_extension": ".py",
   "mimetype": "text/x-python",
   "name": "python",
   "nbconvert_exporter": "python",
   "pygments_lexer": "ipython3",
   "version": "3.9.12"
  },
  "vscode": {
   "interpreter": {
    "hash": "77aa5c7a8032890130e9a412da4828609b1dfa25c62620094c03af7a5cea44b0"
   }
  }
 },
 "nbformat": 4,
 "nbformat_minor": 4
}
