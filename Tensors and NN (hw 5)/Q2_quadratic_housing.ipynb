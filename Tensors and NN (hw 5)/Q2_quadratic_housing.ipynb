{
 "cells": [
  {
   "cell_type": "markdown",
   "metadata": {},
   "source": [
    "# HW 5 Question 2"
   ]
  },
  {
   "cell_type": "markdown",
   "metadata": {},
   "source": [
    "# Setup"
   ]
  },
  {
   "cell_type": "code",
   "execution_count": 1,
   "metadata": {},
   "outputs": [],
   "source": [
    "%matplotlib inline\n",
    "import numpy as np\n",
    "import torch\n",
    "import torch.optim as optim\n",
    "torch.set_printoptions(edgeitems=2, linewidth=75)"
   ]
  },
  {
   "cell_type": "markdown",
   "metadata": {
    "tags": []
   },
   "source": [
    "## define model and functions"
   ]
  },
  {
   "cell_type": "code",
   "execution_count": 2,
   "metadata": {},
   "outputs": [],
   "source": [
    "def model(t_u, w0, w1, b):\n",
    "    return w0 * t_u**2 + w1 * t_u + b"
   ]
  },
  {
   "cell_type": "code",
   "execution_count": 3,
   "metadata": {},
   "outputs": [],
   "source": [
    "def loss_function(predicted, actual):\n",
    "    squared_diffs = (predicted - actual)**2\n",
    "    return squared_diffs.mean()"
   ]
  },
  {
   "cell_type": "code",
   "execution_count": 4,
   "metadata": {},
   "outputs": [
    {
     "data": {
      "text/plain": [
       "[0.1, 0.01, 0.001, 0.0001, 1e-05]"
      ]
     },
     "execution_count": 4,
     "metadata": {},
     "output_type": "execute_result"
    }
   ],
   "source": [
    "rates_to_learn_at = [1/x for x in [10, 100, 1000, 10000, 100000]]\n",
    "rates_to_learn_at"
   ]
  },
  {
   "cell_type": "markdown",
   "metadata": {},
   "source": [
    "## Data import"
   ]
  },
  {
   "cell_type": "code",
   "execution_count": 5,
   "metadata": {},
   "outputs": [],
   "source": [
    "t_c = torch.tensor([0.5, 14.0, 15.0, 28.0, 11.0,\n",
    "                    8.0, 3.0, -4.0, 6.0, 13.0, 21.0])\n",
    "t_u = torch.tensor([35.7, 55.9, 58.2, 81.9, 56.3, 48.9,\n",
    "                    33.9, 21.8, 48.4, 60.4, 68.4])\n",
    "t_un = 0.1 * t_u"
   ]
  },
  {
   "cell_type": "markdown",
   "metadata": {},
   "source": [
    "## Split into train and validation sets"
   ]
  },
  {
   "cell_type": "code",
   "execution_count": 6,
   "metadata": {},
   "outputs": [
    {
     "data": {
      "text/plain": [
       "(tensor([ 9,  3,  1,  5,  8,  7,  0, 10,  6]), tensor([4, 2]))"
      ]
     },
     "execution_count": 6,
     "metadata": {},
     "output_type": "execute_result"
    }
   ],
   "source": [
    "n_samples = t_u.shape[0]\n",
    "n_val = int(0.2 * n_samples)\n",
    "\n",
    "shuffled_indices = torch.randperm(n_samples)\n",
    "\n",
    "train_indices = shuffled_indices[:-n_val]\n",
    "val_indices = shuffled_indices[-n_val:]\n",
    "\n",
    "train_indices, val_indices  # <1>"
   ]
  },
  {
   "cell_type": "code",
   "execution_count": 7,
   "metadata": {},
   "outputs": [],
   "source": [
    "training_t_u = t_u[train_indices]\n",
    "training_t_c = t_c[train_indices]\n",
    "\n",
    "validation_t_u = t_u[val_indices]\n",
    "validation_t_c = t_c[val_indices]\n",
    "\n",
    "training_t_un = 0.1 * training_t_u\n",
    "validation_t_un = 0.1 * validation_t_u"
   ]
  },
  {
   "cell_type": "markdown",
   "metadata": {},
   "source": [
    "## Define the training"
   ]
  },
  {
   "cell_type": "code",
   "execution_count": 8,
   "metadata": {},
   "outputs": [],
   "source": [
    "def training_loop(n_epochs, optimizer, params, train_t_u, val_t_u,\n",
    "                  train_t_c, val_t_c):\n",
    "    for epoch in range(1, n_epochs + 1):\n",
    "        train_t_p = model(train_t_u, *params)\n",
    "        train_loss = loss_function(train_t_p, train_t_c)\n",
    "\n",
    "        # For the valudation step\n",
    "        with torch.no_grad(): \n",
    "            val_t_p = model(val_t_u, *params)\n",
    "            val_loss = loss_function(val_t_p, val_t_c)\n",
    "            assert val_loss.requires_grad == False # <2>\n",
    "            \n",
    "        optimizer.zero_grad()\n",
    "        \n",
    "        train_loss.backward()\n",
    "        optimizer.step()\n",
    "        \n",
    "        if epoch <= 3 or epoch % 500 == 0:\n",
    "            print(f\"Epoch {epoch}, Training loss {train_loss.item():.4f},\"\n",
    "                  f\" Validation loss {val_loss.item():.4f}\")"
   ]
  },
  {
   "cell_type": "markdown",
   "metadata": {},
   "source": [
    "# Results"
   ]
  },
  {
   "cell_type": "code",
   "execution_count": 9,
   "metadata": {},
   "outputs": [
    {
     "name": "stdout",
     "output_type": "stream",
     "text": [
      "Epoch 1, Training loss 681.2130, Validation loss 651.4102\n",
      "Epoch 2, Training loss 402.8719, Validation loss 384.9201\n",
      "Epoch 3, Training loss 240.9870, Validation loss 228.7854\n",
      "Epoch 500, Training loss 11.9509, Validation loss 2.6261\n",
      "Epoch 1000, Training loss 9.2196, Validation loss 2.4695\n",
      "Epoch 1500, Training loss 7.3807, Validation loss 2.4493\n",
      "Epoch 2000, Training loss 6.1420, Validation loss 2.5055\n",
      "Epoch 2500, Training loss 5.3073, Validation loss 2.6000\n",
      "Epoch 3000, Training loss 4.7442, Validation loss 2.7100\n",
      "Epoch 3500, Training loss 4.3639, Validation loss 2.8218\n",
      "Epoch 4000, Training loss 4.1066, Validation loss 2.9277\n",
      "Epoch 4500, Training loss 3.9320, Validation loss 3.0240\n",
      "Epoch 5000, Training loss 3.8131, Validation loss 3.1090\n"
     ]
    },
    {
     "data": {
      "text/plain": [
       "tensor([ 0.5763, -1.0316, -0.9586], requires_grad=True)"
      ]
     },
     "execution_count": 9,
     "metadata": {},
     "output_type": "execute_result"
    }
   ],
   "source": [
    "params = torch.tensor([1.0, 1.0, 0.0], requires_grad=True)\n",
    "learning_rate = 1e-4\n",
    "optimizer = optim.SGD([params], lr=learning_rate)\n",
    "\n",
    "training_loop(\n",
    "    n_epochs = 5000, \n",
    "    optimizer = optimizer,\n",
    "    params = params,\n",
    "    train_t_u = training_t_un, # <1> \n",
    "    val_t_u = validation_t_un, # <1> \n",
    "    train_t_c = training_t_c,\n",
    "    val_t_c = validation_t_c)\n",
    "\n",
    "params"
   ]
  },
  {
   "cell_type": "code",
   "execution_count": 10,
   "metadata": {},
   "outputs": [
    {
     "name": "stdout",
     "output_type": "stream",
     "text": [
      "Epoch 1, Training loss 681.2130, Validation loss 651.4102\n",
      "Epoch 2, Training loss 681.0050, Validation loss 651.2089\n",
      "Epoch 3, Training loss 680.7972, Validation loss 651.0076\n",
      "Epoch 500, Training loss 583.1072, Validation loss 556.4013\n",
      "Epoch 1000, Training loss 495.5844, Validation loss 471.6566\n",
      "Epoch 1500, Training loss 417.7606, Validation loss 396.3195\n",
      "Epoch 2000, Training loss 348.7388, Validation loss 329.5200\n",
      "Epoch 2500, Training loss 287.7881, Validation loss 270.5494\n",
      "Epoch 3000, Training loss 234.3075, Validation loss 218.8250\n",
      "Epoch 3500, Training loss 187.7944, Validation loss 173.8593\n",
      "Epoch 4000, Training loss 147.8133, Validation loss 135.2299\n",
      "Epoch 4500, Training loss 113.9663, Validation loss 102.5504\n",
      "Epoch 5000, Training loss 85.8696, Validation loss 75.4482\n"
     ]
    },
    {
     "data": {
      "text/plain": [
       "tensor([ 0.5721,  0.5694, -0.4349], requires_grad=True)"
      ]
     },
     "execution_count": 10,
     "metadata": {},
     "output_type": "execute_result"
    }
   ],
   "source": [
    "params = torch.tensor([1.0, 1.0, 0.0], requires_grad=True)\n",
    "learning_rate = 1e-4\n",
    "optimizer = optim.Adam([params], lr=learning_rate)\n",
    "\n",
    "training_loop(\n",
    "    n_epochs = 5000, \n",
    "    optimizer = optimizer,\n",
    "    params = params,\n",
    "    train_t_u = training_t_un, # <1> \n",
    "    val_t_u = validation_t_un, # <1> \n",
    "    train_t_c = training_t_c,\n",
    "    val_t_c = validation_t_c)\n",
    "\n",
    "params"
   ]
  },
  {
   "cell_type": "code",
   "execution_count": null,
   "metadata": {},
   "outputs": [],
   "source": []
  }
 ],
 "metadata": {
  "kernelspec": {
   "display_name": "Python 3 (ipykernel)",
   "language": "python",
   "name": "python3"
  },
  "language_info": {
   "codemirror_mode": {
    "name": "ipython",
    "version": 3
   },
   "file_extension": ".py",
   "mimetype": "text/x-python",
   "name": "python",
   "nbconvert_exporter": "python",
   "pygments_lexer": "ipython3",
   "version": "3.9.12"
  },
  "vscode": {
   "interpreter": {
    "hash": "77aa5c7a8032890130e9a412da4828609b1dfa25c62620094c03af7a5cea44b0"
   }
  }
 },
 "nbformat": 4,
 "nbformat_minor": 4
}
