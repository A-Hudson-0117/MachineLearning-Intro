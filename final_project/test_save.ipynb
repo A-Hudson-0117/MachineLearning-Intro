{
 "cells": [
  {
   "cell_type": "code",
   "execution_count": 1,
   "id": "49fe4bc8-6ee4-4775-bea8-dc39419617bd",
   "metadata": {},
   "outputs": [],
   "source": [
    "import torch\n",
    "import torch.nn as nn\n",
    "import torch.optim as optim"
   ]
  },
  {
   "cell_type": "code",
   "execution_count": 2,
   "id": "ff3d4849-6667-4588-a9a2-5a8d5f8e94eb",
   "metadata": {},
   "outputs": [],
   "source": [
    "# test model found on internet\n",
    "class test_class(nn.Module):\n",
    "    def __init__(self):\n",
    "        super(test_class, self).__init__()\n",
    "        self.conv1 = nn.Conv2d(3, 6, 5)\n",
    "        self.pool = nn.MaxPool2d(2, 2)\n",
    "        self.conv2 = nn.Conv2d(6, 16, 5)\n",
    "        self.fc1 = nn.Linear(16 * 5 * 5, 120)\n",
    "        self.fc2 = nn.Linear(120, 84)\n",
    "        self.fc3 = nn.Linear(84, 10)\n",
    "\n",
    "    def forward(self, x):\n",
    "        x = self.pool(F.relu(self.conv1(x)))\n",
    "        x = self.pool(F.relu(self.conv2(x)))\n",
    "        x = x.view(-1, 16 * 5 * 5)\n",
    "        x = F.relu(self.fc1(x))\n",
    "        x = F.relu(self.fc2(x))\n",
    "        x = self.fc3(x)\n",
    "        return x"
   ]
  },
  {
   "cell_type": "code",
   "execution_count": 3,
   "id": "bfb47115-7d9b-40fe-a5d1-ed30075802bb",
   "metadata": {},
   "outputs": [],
   "source": [
    "# Define test model\n",
    "class TheModelClass(nn.Module):\n",
    "    def __init__(self):\n",
    "        super(TheModelClass, self).__init__()\n",
    "        self.test_val = 5\n",
    "        self.test_tensor = torch.tensor([5])\n",
    "        self.test_param = nn.parameter.Parameter(self.test_tensor, False)\n",
    "        self.new_param = nn.parameter.Parameter(torch.tensor([[5, 7, 5], [1, 4, 6]]), False)\n",
    "        self.test_model = test_class()\n",
    "        self.optimizer = optim.SGD(self.test_model.parameters(), lr=0.001, momentum=0.9)\n",
    "\n",
    "    def forward(self):\n",
    "        self.optimizer.zero_grad()\n",
    "        self.test_model.forward()\n",
    "        self.optimizer.step()"
   ]
  },
  {
   "cell_type": "code",
   "execution_count": 4,
   "id": "c97434df-aee7-42a5-b258-4929a6010afd",
   "metadata": {},
   "outputs": [],
   "source": [
    "# Initialize model\n",
    "model = TheModelClass()"
   ]
  },
  {
   "cell_type": "code",
   "execution_count": 5,
   "id": "ece1d811-5c75-4938-b403-07326436471e",
   "metadata": {},
   "outputs": [
    {
     "name": "stdout",
     "output_type": "stream",
     "text": [
      "Model's state_dict:\n",
      "test_param \t torch.Size([1])\n",
      "new_param \t torch.Size([2, 3])\n",
      "test_model.conv1.weight \t torch.Size([6, 3, 5, 5])\n",
      "test_model.conv1.bias \t torch.Size([6])\n",
      "test_model.conv2.weight \t torch.Size([16, 6, 5, 5])\n",
      "test_model.conv2.bias \t torch.Size([16])\n",
      "test_model.fc1.weight \t torch.Size([120, 400])\n",
      "test_model.fc1.bias \t torch.Size([120])\n",
      "test_model.fc2.weight \t torch.Size([84, 120])\n",
      "test_model.fc2.bias \t torch.Size([84])\n",
      "test_model.fc3.weight \t torch.Size([10, 84])\n",
      "test_model.fc3.bias \t torch.Size([10])\n"
     ]
    }
   ],
   "source": [
    "# Print model's state_dict\n",
    "print(\"Model's state_dict:\")\n",
    "for params in model.state_dict():\n",
    "    print(params, \"\\t\", model.state_dict()[params].size())"
   ]
  },
  {
   "cell_type": "code",
   "execution_count": 6,
   "id": "a51b130c-32b6-46bb-b3b1-1071a84afbbf",
   "metadata": {},
   "outputs": [
    {
     "name": "stdout",
     "output_type": "stream",
     "text": [
      "test_model's state_dict:\n",
      "conv1.weight \t torch.Size([6, 3, 5, 5])\n",
      "conv1.bias \t torch.Size([6])\n",
      "conv2.weight \t torch.Size([16, 6, 5, 5])\n",
      "conv2.bias \t torch.Size([16])\n",
      "fc1.weight \t torch.Size([120, 400])\n",
      "fc1.bias \t torch.Size([120])\n",
      "fc2.weight \t torch.Size([84, 120])\n",
      "fc2.bias \t torch.Size([84])\n",
      "fc3.weight \t torch.Size([10, 84])\n",
      "fc3.bias \t torch.Size([10])\n"
     ]
    }
   ],
   "source": [
    "# Print inside state_dict\n",
    "print(\"test_model's state_dict:\")\n",
    "for params in model.test_model.state_dict():\n",
    "    print(params, \"\\t\", (model.test_model).state_dict()[params].size())"
   ]
  },
  {
   "cell_type": "code",
   "execution_count": 7,
   "id": "5348a277-2dc5-45a2-85ed-22bc160ff649",
   "metadata": {},
   "outputs": [],
   "source": [
    "test_save = \"test_model/model.pt\""
   ]
  },
  {
   "cell_type": "code",
   "execution_count": 8,
   "id": "b0736722-85d2-4242-a71d-a7e99430fbc1",
   "metadata": {},
   "outputs": [],
   "source": [
    "torch.save(model.state_dict(), test_save)"
   ]
  },
  {
   "cell_type": "code",
   "execution_count": 9,
   "id": "f20e78ee-d9c8-454a-8fc3-538e2b7a5831",
   "metadata": {},
   "outputs": [
    {
     "data": {
      "text/plain": [
       "<All keys matched successfully>"
      ]
     },
     "execution_count": 9,
     "metadata": {},
     "output_type": "execute_result"
    }
   ],
   "source": [
    "load_model = TheModelClass()\n",
    "load_model.load_state_dict(torch.load(test_save))"
   ]
  },
  {
   "cell_type": "code",
   "execution_count": 10,
   "id": "90f4ab7a-d92b-4aa1-96f2-70148f530b66",
   "metadata": {},
   "outputs": [
    {
     "name": "stdout",
     "output_type": "stream",
     "text": [
      "Model's state_dict:\n",
      "test_param \t torch.Size([1])\n",
      "new_param \t torch.Size([2, 3])\n",
      "test_model.conv1.weight \t torch.Size([6, 3, 5, 5])\n",
      "test_model.conv1.bias \t torch.Size([6])\n",
      "test_model.conv2.weight \t torch.Size([16, 6, 5, 5])\n",
      "test_model.conv2.bias \t torch.Size([16])\n",
      "test_model.fc1.weight \t torch.Size([120, 400])\n",
      "test_model.fc1.bias \t torch.Size([120])\n",
      "test_model.fc2.weight \t torch.Size([84, 120])\n",
      "test_model.fc2.bias \t torch.Size([84])\n",
      "test_model.fc3.weight \t torch.Size([10, 84])\n",
      "test_model.fc3.bias \t torch.Size([10])\n"
     ]
    }
   ],
   "source": [
    "# Print model's state_dict\n",
    "print(\"Model's state_dict:\")\n",
    "for params in load_model.state_dict():\n",
    "    print(params, \"\\t\", load_model.state_dict()[params].size())"
   ]
  },
  {
   "cell_type": "code",
   "execution_count": 11,
   "id": "d90629d5-45d7-4a3e-a61d-86e7503d7ee3",
   "metadata": {},
   "outputs": [
    {
     "name": "stdout",
     "output_type": "stream",
     "text": [
      "test_model's state_dict:\n",
      "conv1.weight \t torch.Size([6, 3, 5, 5])\n",
      "conv1.bias \t torch.Size([6])\n",
      "conv2.weight \t torch.Size([16, 6, 5, 5])\n",
      "conv2.bias \t torch.Size([16])\n",
      "fc1.weight \t torch.Size([120, 400])\n",
      "fc1.bias \t torch.Size([120])\n",
      "fc2.weight \t torch.Size([84, 120])\n",
      "fc2.bias \t torch.Size([84])\n",
      "fc3.weight \t torch.Size([10, 84])\n",
      "fc3.bias \t torch.Size([10])\n"
     ]
    }
   ],
   "source": [
    "# Print inside state_dict\n",
    "print(\"test_model's state_dict:\")\n",
    "for params in load_model.test_model.state_dict():\n",
    "    print(params, \"\\t\", (load_model.test_model).state_dict()[params].size())"
   ]
  },
  {
   "cell_type": "code",
   "execution_count": 12,
   "id": "0adacd25-20e3-4011-9b78-aa17da0bd107",
   "metadata": {},
   "outputs": [
    {
     "data": {
      "text/plain": [
       "Parameter containing:\n",
       "tensor([5])"
      ]
     },
     "execution_count": 12,
     "metadata": {},
     "output_type": "execute_result"
    }
   ],
   "source": [
    "load_model.test_param"
   ]
  },
  {
   "cell_type": "code",
   "execution_count": 13,
   "id": "002d85a6-6455-46b2-ad05-687bede7994f",
   "metadata": {},
   "outputs": [
    {
     "data": {
      "text/plain": [
       "tensor([5])"
      ]
     },
     "execution_count": 13,
     "metadata": {},
     "output_type": "execute_result"
    }
   ],
   "source": [
    "load_model.test_param.data"
   ]
  },
  {
   "cell_type": "code",
   "execution_count": 14,
   "id": "05e79e2b-0f7e-41c4-a75d-5d33610c7a27",
   "metadata": {},
   "outputs": [
    {
     "data": {
      "text/plain": [
       "tensor([10])"
      ]
     },
     "execution_count": 14,
     "metadata": {},
     "output_type": "execute_result"
    }
   ],
   "source": [
    "(load_model.test_param) + 5"
   ]
  },
  {
   "cell_type": "code",
   "execution_count": 15,
   "id": "095d24da-267c-44e3-938a-7897a342110c",
   "metadata": {},
   "outputs": [
    {
     "data": {
      "text/plain": [
       "tensor([10])"
      ]
     },
     "execution_count": 15,
     "metadata": {},
     "output_type": "execute_result"
    }
   ],
   "source": [
    "(load_model.test_param).data + 5"
   ]
  },
  {
   "cell_type": "code",
   "execution_count": null,
   "id": "7335aadc-e91d-43ea-9a43-6d7646871884",
   "metadata": {},
   "outputs": [],
   "source": []
  },
  {
   "cell_type": "code",
   "execution_count": 16,
   "id": "3b769517-6a41-4619-8c13-ecbcb67c381b",
   "metadata": {},
   "outputs": [
    {
     "data": {
      "text/plain": [
       "Parameter containing:\n",
       "tensor([[5, 7, 5],\n",
       "        [1, 4, 6]])"
      ]
     },
     "execution_count": 16,
     "metadata": {},
     "output_type": "execute_result"
    }
   ],
   "source": [
    "load_model.new_param"
   ]
  },
  {
   "cell_type": "code",
   "execution_count": 17,
   "id": "2a665756-747d-42f5-8d21-930112d976ed",
   "metadata": {},
   "outputs": [
    {
     "data": {
      "text/plain": [
       "tensor([[5, 7, 5],\n",
       "        [1, 4, 6]])"
      ]
     },
     "execution_count": 17,
     "metadata": {},
     "output_type": "execute_result"
    }
   ],
   "source": [
    "load_model.new_param.data"
   ]
  },
  {
   "cell_type": "code",
   "execution_count": 18,
   "id": "ec4704a5-96e8-46e2-9840-66f5eba77c04",
   "metadata": {},
   "outputs": [
    {
     "data": {
      "text/plain": [
       "tensor([[10, 12, 10],\n",
       "        [ 6,  9, 11]])"
      ]
     },
     "execution_count": 18,
     "metadata": {},
     "output_type": "execute_result"
    }
   ],
   "source": [
    "(load_model.new_param) + 5"
   ]
  },
  {
   "cell_type": "code",
   "execution_count": 19,
   "id": "1cfc7a91-f72a-4377-ae27-ab7b3642bb77",
   "metadata": {},
   "outputs": [
    {
     "data": {
      "text/plain": [
       "tensor([[10, 12, 10],\n",
       "        [ 6,  9, 11]])"
      ]
     },
     "execution_count": 19,
     "metadata": {},
     "output_type": "execute_result"
    }
   ],
   "source": [
    "(load_model.new_param).data + 5"
   ]
  },
  {
   "cell_type": "code",
   "execution_count": null,
   "id": "bae856ba-c1ea-4965-b66c-561ee6e76813",
   "metadata": {},
   "outputs": [],
   "source": []
  },
  {
   "cell_type": "code",
   "execution_count": 30,
   "id": "d4d158d2-8b4d-492e-9352-4aa2a2cc7ee4",
   "metadata": {},
   "outputs": [
    {
     "data": {
      "text/plain": [
       "5"
      ]
     },
     "execution_count": 30,
     "metadata": {},
     "output_type": "execute_result"
    }
   ],
   "source": [
    "load_model.test_param.data.item()"
   ]
  },
  {
   "cell_type": "code",
   "execution_count": 31,
   "id": "ccdb0e1b-f50a-4ada-83a6-1d51ad87b04e",
   "metadata": {},
   "outputs": [
    {
     "data": {
      "text/plain": [
       "5"
      ]
     },
     "execution_count": 31,
     "metadata": {},
     "output_type": "execute_result"
    }
   ],
   "source": [
    "load_model.test_param.item()"
   ]
  },
  {
   "cell_type": "code",
   "execution_count": null,
   "id": "714cde22-3eea-4bf4-afba-4c0241eb4ed6",
   "metadata": {},
   "outputs": [],
   "source": []
  }
 ],
 "metadata": {
  "kernelspec": {
   "display_name": "Python 3 (ipykernel)",
   "language": "python",
   "name": "python3"
  },
  "language_info": {
   "codemirror_mode": {
    "name": "ipython",
    "version": 3
   },
   "file_extension": ".py",
   "mimetype": "text/x-python",
   "name": "python",
   "nbconvert_exporter": "python",
   "pygments_lexer": "ipython3",
   "version": "3.9.12"
  }
 },
 "nbformat": 4,
 "nbformat_minor": 5
}
