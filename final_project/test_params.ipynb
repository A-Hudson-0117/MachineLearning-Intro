{
 "cells": [
  {
   "cell_type": "code",
   "execution_count": 1,
   "id": "49fe4bc8-6ee4-4775-bea8-dc39419617bd",
   "metadata": {},
   "outputs": [],
   "source": [
    "import torch\n",
    "import torch.nn as nn\n",
    "import torch.optim as optim\n",
    "from DQN import Agent "
   ]
  },
  {
   "cell_type": "code",
   "execution_count": null,
   "id": "2ec9f1c0-0158-46cb-acb7-18fff5737ef3",
   "metadata": {},
   "outputs": [],
   "source": []
  },
  {
   "cell_type": "code",
   "execution_count": 2,
   "id": "c97434df-aee7-42a5-b258-4929a6010afd",
   "metadata": {},
   "outputs": [],
   "source": [
    "# Initialize model\n",
    "model = Agent(gamma=0.99, epsilon=1, batch_size=512, n_actions=8, eps_end=0.01,input_dims=[6], lr=0.003)"
   ]
  },
  {
   "cell_type": "code",
   "execution_count": 3,
   "id": "ece1d811-5c75-4938-b403-07326436471e",
   "metadata": {},
   "outputs": [
    {
     "name": "stdout",
     "output_type": "stream",
     "text": [
      "Model's state_dict:\n",
      "gamma \t torch.Size([1])\n",
      "epsilon \t torch.Size([1])\n",
      "eps_min \t torch.Size([1])\n",
      "eps_dec \t torch.Size([1])\n",
      "lr \t torch.Size([1])\n",
      "mem_size \t torch.Size([1])\n",
      "batch_size \t torch.Size([1])\n",
      "Q_eval.fc1.weight \t torch.Size([256, 6])\n",
      "Q_eval.fc1.bias \t torch.Size([256])\n",
      "Q_eval.fc2.weight \t torch.Size([256, 256])\n",
      "Q_eval.fc2.bias \t torch.Size([256])\n",
      "Q_eval.fc3.weight \t torch.Size([8, 256])\n",
      "Q_eval.fc3.bias \t torch.Size([8])\n"
     ]
    }
   ],
   "source": [
    "# Print model's state_dict\n",
    "print(\"Model's state_dict:\")\n",
    "for params in model.state_dict():\n",
    "    print(params, \"\\t\", model.state_dict()[params].size())"
   ]
  },
  {
   "cell_type": "code",
   "execution_count": 4,
   "id": "5348a277-2dc5-45a2-85ed-22bc160ff649",
   "metadata": {},
   "outputs": [],
   "source": [
    "test_save = \"test_model/fake_agent.pt\""
   ]
  },
  {
   "cell_type": "code",
   "execution_count": 5,
   "id": "b0736722-85d2-4242-a71d-a7e99430fbc1",
   "metadata": {},
   "outputs": [],
   "source": [
    "torch.save(model.state_dict(), test_save)"
   ]
  },
  {
   "cell_type": "code",
   "execution_count": 6,
   "id": "f20e78ee-d9c8-454a-8fc3-538e2b7a5831",
   "metadata": {},
   "outputs": [
    {
     "data": {
      "text/plain": [
       "<All keys matched successfully>"
      ]
     },
     "execution_count": 6,
     "metadata": {},
     "output_type": "execute_result"
    }
   ],
   "source": [
    "load_model = Agent(gamma=0.99, epsilon=1, batch_size=512, n_actions=8, eps_end=0.01,input_dims=[6], lr=0.003)\n",
    "load_model.load_state_dict(torch.load(test_save))"
   ]
  },
  {
   "cell_type": "code",
   "execution_count": 7,
   "id": "90f4ab7a-d92b-4aa1-96f2-70148f530b66",
   "metadata": {},
   "outputs": [
    {
     "name": "stdout",
     "output_type": "stream",
     "text": [
      "Model's state_dict:\n",
      "gamma \t torch.Size([1])\n",
      "epsilon \t torch.Size([1])\n",
      "eps_min \t torch.Size([1])\n",
      "eps_dec \t torch.Size([1])\n",
      "lr \t torch.Size([1])\n",
      "mem_size \t torch.Size([1])\n",
      "batch_size \t torch.Size([1])\n",
      "Q_eval.fc1.weight \t torch.Size([256, 6])\n",
      "Q_eval.fc1.bias \t torch.Size([256])\n",
      "Q_eval.fc2.weight \t torch.Size([256, 256])\n",
      "Q_eval.fc2.bias \t torch.Size([256])\n",
      "Q_eval.fc3.weight \t torch.Size([8, 256])\n",
      "Q_eval.fc3.bias \t torch.Size([8])\n"
     ]
    }
   ],
   "source": [
    "# Print model's state_dict\n",
    "print(\"Model's state_dict:\")\n",
    "for params in load_model.state_dict():\n",
    "    print(params, \"\\t\", load_model.state_dict()[params].size())"
   ]
  },
  {
   "cell_type": "code",
   "execution_count": null,
   "id": "8258ca74-75da-46fb-a941-f3c43279bfdc",
   "metadata": {},
   "outputs": [],
   "source": []
  },
  {
   "cell_type": "code",
   "execution_count": null,
   "id": "60744229-8ce4-4c6b-9098-87fd3896d5cb",
   "metadata": {},
   "outputs": [],
   "source": []
  }
 ],
 "metadata": {
  "kernelspec": {
   "display_name": "Python 3 (ipykernel)",
   "language": "python",
   "name": "python3"
  },
  "language_info": {
   "codemirror_mode": {
    "name": "ipython",
    "version": 3
   },
   "file_extension": ".py",
   "mimetype": "text/x-python",
   "name": "python",
   "nbconvert_exporter": "python",
   "pygments_lexer": "ipython3",
   "version": "3.9.12"
  }
 },
 "nbformat": 4,
 "nbformat_minor": 5
}
