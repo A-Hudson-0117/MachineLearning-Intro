{
 "cells": [
  {
   "cell_type": "code",
   "execution_count": 3,
   "id": "9ffb28fc",
   "metadata": {},
   "outputs": [],
   "source": [
    "import gym\n",
    "import numpy as np\n",
    "import torch as T\n",
    "from DQN import Agent\n",
    "from disc_env import DiffDriveEnv\n",
    "from utils import plotLearning"
   ]
  },
  {
   "cell_type": "markdown",
   "id": "e76fb2c3-99d9-4d00-b866-a623a309cd29",
   "metadata": {
    "tags": []
   },
   "source": [
    "# Define various variables"
   ]
  },
  {
   "cell_type": "code",
   "execution_count": 4,
   "id": "6b0364f3",
   "metadata": {},
   "outputs": [],
   "source": [
    "def convert_observation(dictonary):\n",
    "    observation = np.zeros(7, dtype=np.float32)\n",
    "    observation[0:5] = np.concatenate([dictonary['agent'], \n",
    "                                       dictonary['target']])\n",
    "    observation[5] = dictonary['heading']\n",
    "    observation[6] = dictonary['iterations']\n",
    "\n",
    "    return observation"
   ]
  },
  {
   "cell_type": "code",
   "execution_count": 5,
   "id": "e61364c6",
   "metadata": {},
   "outputs": [],
   "source": [
    "save_path = \"models/\"\n",
    "save_file = \"robot_model_0.pt\""
   ]
  },
  {
   "cell_type": "code",
   "execution_count": 6,
   "id": "1c673c40",
   "metadata": {},
   "outputs": [],
   "source": [
    "# env.render_mode = \"human\"\n",
    "get = ['agent', 'target', 'heading']\n",
    "agent = Agent(gamma=0.99, epsilon=1, batch_size=512, n_actions=8, eps_end=0.01,input_dims=[7], lr=0.003)"
   ]
  },
  {
   "cell_type": "code",
   "execution_count": 15,
   "id": "99e92658",
   "metadata": {},
   "outputs": [],
   "source": [
    "global env\n",
    "env = None\n",
    "\n",
    "# objectives is a slider from 1 to 4 inclusive\n",
    "default_objective = 2\n",
    "\n",
    "env_types = [\"sim\", \"real\"]\n",
    "\n",
    "def set_env(env_type, objective = default_objective):\n",
    "    global env\n",
    "    \n",
    "    env = None\n",
    "    \n",
    "    if(objective == 1):\n",
    "        env = DiffDriveEnv()\n",
    "    \n",
    "    elif(objective == 2):\n",
    "        env = DiffDriveEnv()\n",
    "    \n",
    "    elif(objective == 3):\n",
    "        env = DiffDriveEnv()\n",
    "    \n",
    "    elif(objective == 4):\n",
    "        pass\n",
    "    \n",
    "    \n",
    "    # if real or sim in\n",
    "    if (env_type == env_types[0]):\n",
    "        pass\n",
    "    elif (env_type == env_types[1]):\n",
    "        env.robot_type = \"real\"\n",
    "    \n",
    "    \n",
    "    if (env == None):\n",
    "        print(\"No environment setup\") \n",
    "    else: \n",
    "        print(\"\")"
   ]
  },
  {
   "cell_type": "code",
   "execution_count": 18,
   "id": "1164f0d8-f8a3-4385-a4ba-6162684f1d8e",
   "metadata": {},
   "outputs": [
    {
     "name": "stdout",
     "output_type": "stream",
     "text": [
      "Please set the environment type:\n"
     ]
    },
    {
     "data": {
      "application/vnd.jupyter.widget-view+json": {
       "model_id": "12b6cb34ba23443e91ff1ae0a704cf5e",
       "version_major": 2,
       "version_minor": 0
      },
      "text/plain": [
       "interactive(children=(Dropdown(description='env_type', options=('sim', 'real'), value='sim'), IntSlider(value=…"
      ]
     },
     "metadata": {},
     "output_type": "display_data"
    }
   ],
   "source": [
    "from ipywidgets import interact\n",
    "\n",
    "print(\"Please set the environment type:\")\n",
    "interact(set_env, env_type=env_types , objective=(1, 4));"
   ]
  },
  {
   "cell_type": "markdown",
   "id": "6a76e4f9-33ad-4302-bf53-f7c3cdfd3476",
   "metadata": {},
   "source": [
    "# Training"
   ]
  },
  {
   "cell_type": "code",
   "execution_count": null,
   "id": "2a92c6bd-1ff8-4017-aa98-0d806d8422a7",
   "metadata": {},
   "outputs": [],
   "source": [
    "scores, eps_history = [], []\n",
    "n_games = 2000\n",
    "finished = 0"
   ]
  },
  {
   "cell_type": "code",
   "execution_count": null,
   "id": "a3808056-e9ce-491e-9708-a21ec4ad750d",
   "metadata": {},
   "outputs": [
    {
     "name": "stdout",
     "output_type": "stream",
     "text": [
      "episode  0 score -58.06 average score -58.06 completed 0 epsilon 1.00\n",
      "episode  50 score -54.31 average score -39.23 completed 4 epsilon 0.01\n"
     ]
    }
   ],
   "source": [
    "for i in range(n_games):\n",
    "    observation = np.zeros(6, dtype=np.float32)\n",
    "    score = 0\n",
    "    done = False\n",
    "    observation, info = env.reset()     \n",
    "    observation = convert_observation(observation)\n",
    "#         for _ in range(50):\n",
    "    while not done:\n",
    "        action = agent.choose_action(observation)\n",
    "        observation_, reward, done, info, completed = env.step(action)\n",
    "        observation_ = convert_observation(observation_)\n",
    "#             score += reward \n",
    "        agent.store_transition(observation, action, reward, \n",
    "                                observation_, done)\n",
    "        agent.learn()\n",
    "        observation = observation_\n",
    "    scores.append(reward)\n",
    "    if completed: \n",
    "            finished +=1\n",
    "    eps_history.append(agent.epsilon)\n",
    "\n",
    "    avg_score = np.mean(scores[-100:])\n",
    "    if (i % 50 == 0) or (i == n_games):\n",
    "        print('episode ', i, 'score %.2f' % reward,\n",
    "                'average score %.2f' % avg_score, 'completed %d' % finished,\n",
    "                'epsilon %.2f' % agent.epsilon)\n",
    "        finished = 0"
   ]
  },
  {
   "cell_type": "code",
   "execution_count": 7,
   "id": "1a2c8ebd-fe1c-4ccf-ad21-75fef3de9ca8",
   "metadata": {},
   "outputs": [
    {
     "name": "stderr",
     "output_type": "stream",
     "text": [
      "/home/terminator0117/anaconda3/lib/python3.9/site-packages/numpy/core/shape_base.py:65: FutureWarning: The input object of type 'Parameter' is an array-like implementing one of the corresponding protocols (`__array__`, `__array_interface__` or `__array_struct__`); but not a sequence (or 0-D). In the future, this object will be coerced as if it was first converted using `np.array(obj)`. To retain the old behaviour, you have to either modify the type 'Parameter', or assign to an empty array created with `np.empty(correct_shape, dtype=object)`.\n",
      "  ary = asanyarray(ary)\n",
      "/home/terminator0117/anaconda3/lib/python3.9/site-packages/numpy/core/shape_base.py:65: VisibleDeprecationWarning: Creating an ndarray from ragged nested sequences (which is a list-or-tuple of lists-or-tuples-or ndarrays with different lengths or shapes) is deprecated. If you meant to do this, you must specify 'dtype=object' when creating the ndarray.\n",
      "  ary = asanyarray(ary)\n"
     ]
    },
    {
     "data": {
      "image/png": "[encoded data removed]",
      "text/plain": [
       "<Figure size 432x288 with 2 Axes>"
      ]
     },
     "metadata": {},
     "output_type": "display_data"
    }
   ],
   "source": [
    "x = [i+1 for i in range(n_games)]\n",
    "filename = 'results/score.png'\n",
    "plotLearning(x, scores, eps_history, filename)"
   ]
  },
  {
   "cell_type": "markdown",
   "id": "bc8949b3-577a-4628-8048-b03f6db8ea58",
   "metadata": {},
   "source": [
    "# Simulation"
   ]
  },
  {
   "cell_type": "markdown",
   "id": "d9bc3600-978d-4cd9-9905-a1933241ef29",
   "metadata": {},
   "source": [
    "## Set Environment"
   ]
  },
  {
   "cell_type": "code",
   "execution_count": 8,
   "id": "4380582b",
   "metadata": {},
   "outputs": [],
   "source": [
    "env.render_mode = \"human\"\n",
    "observation, info = env.reset() "
   ]
  },
  {
   "cell_type": "markdown",
   "id": "3f93f863-3f6a-4e46-8780-2512b893facf",
   "metadata": {
    "tags": []
   },
   "source": [
    "## Run"
   ]
  },
  {
   "cell_type": "code",
   "execution_count": 9,
   "id": "fba9896a",
   "metadata": {},
   "outputs": [],
   "source": [
    "done = False\n",
    "while not done:\n",
    "    observation = convert_observation(observation)\n",
    "    action = agent.choose_action(observation)\n",
    "    observation, reward, done, info, completed = env.step(action)\n",
    "    if completed:\n",
    "        print(\"completed\")"
   ]
  },
  {
   "cell_type": "markdown",
   "id": "128e03d4-373b-4007-9ae2-2a342b688be9",
   "metadata": {},
   "source": [
    "## Close"
   ]
  },
  {
   "cell_type": "code",
   "execution_count": 10,
   "id": "0af3a07c-edce-4277-9500-9e86bcc04528",
   "metadata": {},
   "outputs": [],
   "source": [
    "env.close()"
   ]
  },
  {
   "cell_type": "markdown",
   "id": "0df23185-abc2-45b3-a3ce-dc8445e91067",
   "metadata": {},
   "source": [
    "# Real World"
   ]
  },
  {
   "cell_type": "markdown",
   "id": "ada6d732-0084-4efe-b952-9f1fe2ff42fb",
   "metadata": {
    "tags": []
   },
   "source": [
    "## Set Environment"
   ]
  },
  {
   "cell_type": "code",
   "execution_count": null,
   "id": "e432e780",
   "metadata": {},
   "outputs": [],
   "source": [
    "env.render_mode = \"human\"\n",
    "env.robot_type = \"real\"\n",
    "observation, info = env.reset()     "
   ]
  },
  {
   "cell_type": "markdown",
   "id": "49efad3f-4a20-4b48-ab6f-cb39ce86963b",
   "metadata": {
    "tags": []
   },
   "source": [
    "## Run"
   ]
  },
  {
   "cell_type": "code",
   "execution_count": null,
   "id": "79924532",
   "metadata": {},
   "outputs": [],
   "source": [
    "done = False\n",
    "while not done:\n",
    "    observation = convert_observation(observation)\n",
    "    action = agent.choose_action(observation)\n",
    "    observation, reward, done, info, completed = env.step(action)\n",
    "    if completed:\n",
    "        print(\"completed\")"
   ]
  },
  {
   "cell_type": "markdown",
   "id": "06210d44-9e7a-4a6e-8bf7-f3aba48337ca",
   "metadata": {},
   "source": [
    "## Close"
   ]
  },
  {
   "cell_type": "code",
   "execution_count": null,
   "id": "d26bf952-f6cb-47a2-a303-6b6a00058126",
   "metadata": {},
   "outputs": [],
   "source": [
    "env.close()"
   ]
  },
  {
   "cell_type": "markdown",
   "id": "4469040d-81e5-4327-964e-b9531a541025",
   "metadata": {},
   "source": [
    "# Save & Load Model\n",
    "This code is mostly meant to be run out of order in the case someone wants to retrain a model or test a model"
   ]
  },
  {
   "cell_type": "markdown",
   "id": "ebff682d-de4a-4d5a-b777-0944f3cd50ea",
   "metadata": {},
   "source": [
    "## Save"
   ]
  },
  {
   "cell_type": "code",
   "execution_count": 11,
   "id": "04b22206",
   "metadata": {},
   "outputs": [],
   "source": [
    "T.save(agent.state_dict(), save_path + save_file)"
   ]
  },
  {
   "cell_type": "markdown",
   "id": "785e407c-1523-46ef-90fe-e4134d589881",
   "metadata": {},
   "source": [
    "## Load"
   ]
  },
  {
   "cell_type": "code",
   "execution_count": 14,
   "id": "dd03cf25",
   "metadata": {},
   "outputs": [
    {
     "data": {
      "text/plain": [
       "<All keys matched successfully>"
      ]
     },
     "execution_count": 14,
     "metadata": {},
     "output_type": "execute_result"
    }
   ],
   "source": [
    "load_agent = Agent(gamma=0.99, epsilon=1, batch_size=512, n_actions=8, eps_end=0.01,input_dims=[7], lr=0.003)\n",
    "load_agent.load_state_dict(T.load(save_path + save_file))"
   ]
  },
  {
   "cell_type": "markdown",
   "id": "acb55cfd-ee9a-4b08-9c33-be780f3713e5",
   "metadata": {},
   "source": [
    "# replace agent"
   ]
  },
  {
   "cell_type": "code",
   "execution_count": null,
   "id": "94e29779",
   "metadata": {},
   "outputs": [],
   "source": [
    "agent = load_agent"
   ]
  },
  {
   "cell_type": "code",
   "execution_count": null,
   "id": "f7ec5cf3",
   "metadata": {},
   "outputs": [],
   "source": []
  }
 ],
 "metadata": {
  "kernelspec": {
   "display_name": "Python 3 (ipykernel)",
   "language": "python",
   "name": "python3"
  },
  "language_info": {
   "codemirror_mode": {
    "name": "ipython",
    "version": 3
   },
   "file_extension": ".py",
   "mimetype": "text/x-python",
   "name": "python",
   "nbconvert_exporter": "python",
   "pygments_lexer": "ipython3",
   "version": "3.9.12"
  },
  "vscode": {
   "interpreter": {
    "hash": "916dbcbb3f70747c44a77c7bcd40155683ae19c65e1c03b4aa3499c5328201f1"
   }
  }
 },
 "nbformat": 4,
 "nbformat_minor": 5
}
