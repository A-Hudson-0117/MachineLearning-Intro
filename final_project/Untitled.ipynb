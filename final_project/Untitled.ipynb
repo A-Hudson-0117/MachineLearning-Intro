{
 "cells": [
  {
   "cell_type": "code",
   "execution_count": 3,
   "id": "33a68e68",
   "metadata": {},
   "outputs": [],
   "source": [
    "import gym\n",
    "import numpy as np\n",
    "from DQN import Agent\n",
    "from disc_env import DiffDriveEnv\n",
    "from utils import plotLearning\n",
    "\n",
    "\n",
    "def convert_observation(dictonary):\n",
    "    observation = np.zeros(6, dtype=np.float32)\n",
    "    observation[0:5] = np.concatenate([dictonary['agent'], \n",
    "                                       dictonary['target']])\n",
    "    observation[5] = dictonary['time']\n",
    "    return observation\n",
    "  \n",
    "env = DiffDriveEnv()"
   ]
  },
  {
   "cell_type": "code",
   "execution_count": 18,
   "id": "32d05b9f",
   "metadata": {},
   "outputs": [
    {
     "data": {
      "text/plain": [
       "({'agent': array([ 0.8691345, -0.3901379,  5.6531463], dtype=float32),\n",
       "  'target': array([1.5, 1. ], dtype=float32),\n",
       "  'time': 0},\n",
       " {'distance': 2.0210035})"
      ]
     },
     "execution_count": 18,
     "metadata": {},
     "output_type": "execute_result"
    }
   ],
   "source": [
    "env.action_space\n",
    "env.render_mode = \"human\"\n",
    "env.reset()"
   ]
  },
  {
   "cell_type": "code",
   "execution_count": null,
   "id": "d49a2157",
   "metadata": {},
   "outputs": [],
   "source": []
  },
  {
   "cell_type": "code",
   "execution_count": null,
   "id": "5bdf93fe",
   "metadata": {},
   "outputs": [],
   "source": []
  }
 ],
 "metadata": {
  "kernelspec": {
   "display_name": "Python 3 (ipykernel)",
   "language": "python",
   "name": "python3"
  },
  "language_info": {
   "codemirror_mode": {
    "name": "ipython",
    "version": 3
   },
   "file_extension": ".py",
   "mimetype": "text/x-python",
   "name": "python",
   "nbconvert_exporter": "python",
   "pygments_lexer": "ipython3",
   "version": "3.9.13"
  }
 },
 "nbformat": 4,
 "nbformat_minor": 5
}
