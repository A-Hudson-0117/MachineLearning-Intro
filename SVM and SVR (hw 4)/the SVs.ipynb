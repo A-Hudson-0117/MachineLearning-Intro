{
 "cells": [
  {
   "cell_type": "markdown",
   "id": "e7d0d9fd-b62e-4cd1-a1bb-db09a5001ce2",
   "metadata": {},
   "source": [
    "# The SVM's\n",
    "hw 4"
   ]
  },
  {
   "cell_type": "markdown",
   "id": "62d928bc-8c63-43dd-9fc8-a78dedd2e964",
   "metadata": {},
   "source": [
    "## Imports"
   ]
  },
  {
   "cell_type": "code",
   "execution_count": 1,
   "id": "f85781f2-c8c3-4dbe-8815-e9280b14f3fe",
   "metadata": {},
   "outputs": [],
   "source": [
    "# basic\n",
    "import numpy as np\n",
    "import matplotlib.pyplot as plt\n",
    "import pandas as pd\n",
    "import seaborn as sns\n",
    "\n",
    "# data manipulation\n",
    "from sklearn import metrics\n",
    "from sklearn import model_selection\n",
    "from sklearn.preprocessing import StandardScaler, MinMaxScaler\n",
    "from sklearn.decomposition import PCA\n",
    "\n",
    "# models\n",
    "from sklearn.svm import SVC, SVR\n",
    "\n",
    "# preset data\n",
    "from sklearn.datasets import load_breast_cancer"
   ]
  },
  {
   "cell_type": "markdown",
   "id": "4d755f8c",
   "metadata": {},
   "source": [
    "## Confusion function"
   ]
  },
  {
   "cell_type": "code",
   "execution_count": 2,
   "id": "14f0f00f",
   "metadata": {},
   "outputs": [],
   "source": [
    "def print_conf_matrix(confusion_matrix, conf_title, class_labels):\n",
    "    fig, ax = plt.subplots()\n",
    "    # create heatmap\n",
    "    sns.heatmap(pd.DataFrame(confusion_matrix), annot=True, cmap=\"YlGnBu\" ,fmt='g', xticklabels=class_labels, yticklabels=class_labels)\n",
    "    ax.xaxis.set_label_position(\"top\")\n",
    "    ax.xaxis.set_ticks_position(\"top\")\n",
    "    plt.tight_layout()\n",
    "    plt.title(conf_title, y=1.15);\n",
    "    plt.ylabel('Actual label');\n",
    "    plt.xlabel('Predicted label');"
   ]
  },
  {
   "cell_type": "markdown",
   "id": "0018371a",
   "metadata": {},
   "source": [
    "## Split and Train SVC function"
   ]
  },
  {
   "cell_type": "code",
   "execution_count": 3,
   "id": "88014c8c",
   "metadata": {},
   "outputs": [],
   "source": [
    "def train_svc (x, y, kernel:str, penalty = 10, gamma=\"auto\", test_size = 0.2):\n",
    "    # print(\"train_shape:\" , x_decomp.shape) # Debug line\n",
    "    \n",
    "    # --- SPLIT DATA\n",
    "    x_train, x_test, y_train, y_test = model_selection.train_test_split(x, y, test_size = test_size, random_state=20)\n",
    "    # print(\"x training size: \", x_train.shape)   # Debug line\n",
    "    # print(\"y training size: \", y_train.shape)   # Debug line\n",
    "    # print(\"x test size: \", x_test.shape)   # Debug line\n",
    "    # print(\"y test size: \", y_test.shape)   # Debug line\n",
    "\n",
    "    # --- TRAIN MODEL\n",
    "    classifier = SVC(kernel=kernel, C=penalty, gamma=gamma)\n",
    "    classifier.fit(x_train, y_train)\n",
    "\n",
    "    # --- REPORT DATA\n",
    "    y_pred = classifier.predict(x_test)\n",
    "    \n",
    "    return y_test , y_pred"
   ]
  },
  {
   "cell_type": "markdown",
   "id": "883dcb5f",
   "metadata": {},
   "source": [
    "## Split and Train SVR function"
   ]
  },
  {
   "cell_type": "code",
   "execution_count": 4,
   "id": "a4272e80",
   "metadata": {},
   "outputs": [],
   "source": [
    "def train_svr (x, y, kernel:str, penalty = 10, gamma=\"auto\", epsilon=0.1, test_size = 0.2):\n",
    "    # print(\"train_shape:\" , x_decomp.shape) # Debug line\n",
    "    \n",
    "    # --- SPLIT DATA\n",
    "    x_train, x_test, y_train, y_test = model_selection.train_test_split(x, y, test_size = test_size, random_state=20)\n",
    "    # print(\"x training size: \", x_train.shape)   # Debug line\n",
    "    # print(\"y training size: \", y_train.shape)   # Debug line\n",
    "    # print(\"x test size: \", x_test.shape)   # Debug line\n",
    "    # print(\"y test size: \", y_test.shape)   # Debug line\n",
    "\n",
    "    # --- TRAIN MODEL\n",
    "    classifier = SVR(kernel=kernel, C=penalty, gamma=gamma, epsilon=epsilon)\n",
    "    # print(classifier)\n",
    "    classifier.fit(x_train, y_train)\n",
    "\n",
    "    # --- REPORT DATA\n",
    "    y_pred = classifier.predict(x_test)\n",
    "    \n",
    "    return y_test , y_pred"
   ]
  },
  {
   "cell_type": "markdown",
   "id": "cae86669-01e1-4668-92f3-bdc2fcac4897",
   "metadata": {
    "tags": []
   },
   "source": [
    "# Part 1\n",
    "SVM"
   ]
  },
  {
   "cell_type": "markdown",
   "id": "31adce4d-4ef7-4c85-ae3f-9640f4b69d6a",
   "metadata": {},
   "source": [
    "## Setup"
   ]
  },
  {
   "cell_type": "code",
   "execution_count": 5,
   "id": "d4332097",
   "metadata": {},
   "outputs": [],
   "source": [
    "q_num = \"Q1: SVC\""
   ]
  },
  {
   "cell_type": "code",
   "execution_count": 6,
   "id": "a9a61802-3563-44c0-be8f-ac07c51f5947",
   "metadata": {},
   "outputs": [],
   "source": [
    "dataset = load_breast_cancer()"
   ]
  },
  {
   "cell_type": "code",
   "execution_count": 7,
   "id": "71a1a4f1-780b-4211-8f65-299655659480",
   "metadata": {},
   "outputs": [
    {
     "data": {
      "text/plain": [
       "(569, 30)"
      ]
     },
     "execution_count": 7,
     "metadata": {},
     "output_type": "execute_result"
    }
   ],
   "source": [
    "cancer_data = dataset.data\n",
    "cancer_data.shape"
   ]
  },
  {
   "cell_type": "code",
   "execution_count": 8,
   "id": "85e0d906-9423-4cf1-a8f3-9702e5c0543f",
   "metadata": {},
   "outputs": [
    {
     "data": {
      "text/plain": [
       "(569, 1)"
      ]
     },
     "execution_count": 8,
     "metadata": {},
     "output_type": "execute_result"
    }
   ],
   "source": [
    "cancer_labels = dataset.target\n",
    "cancer_labels = np.reshape(cancer_labels,(len(cancer_labels),1))\n",
    "cancer_labels.shape"
   ]
  },
  {
   "cell_type": "code",
   "execution_count": 9,
   "id": "08c13b9b-73f1-4bc3-bbcd-83131ab2fd62",
   "metadata": {},
   "outputs": [
    {
     "data": {
      "text/plain": [
       "(569, 31)"
      ]
     },
     "execution_count": 9,
     "metadata": {},
     "output_type": "execute_result"
    }
   ],
   "source": [
    "cancer_data = np.concatenate([cancer_data,cancer_labels],axis=1)\n",
    "cancer_data.shape"
   ]
  },
  {
   "cell_type": "code",
   "execution_count": 10,
   "id": "25283b9f-e152-455a-a68d-4137ebc8be16",
   "metadata": {},
   "outputs": [
    {
     "name": "stdout",
     "output_type": "stream",
     "text": [
      "Shape: (569, 31)\n"
     ]
    },
    {
     "data": {
      "text/html": [
       "<div>\n",
       "<style scoped>\n",
       "    .dataframe tbody tr th:only-of-type {\n",
       "        vertical-align: middle;\n",
       "    }\n",
       "\n",
       "    .dataframe tbody tr th {\n",
       "        vertical-align: top;\n",
       "    }\n",
       "\n",
       "    .dataframe thead th {\n",
       "        text-align: right;\n",
       "    }\n",
       "</style>\n",
       "<table border=\"1\" class=\"dataframe\">\n",
       "  <thead>\n",
       "    <tr style=\"text-align: right;\">\n",
       "      <th></th>\n",
       "      <th>mean radius</th>\n",
       "      <th>mean texture</th>\n",
       "      <th>mean perimeter</th>\n",
       "      <th>mean area</th>\n",
       "      <th>mean smoothness</th>\n",
       "      <th>mean compactness</th>\n",
       "      <th>mean concavity</th>\n",
       "      <th>mean concave points</th>\n",
       "      <th>mean symmetry</th>\n",
       "      <th>mean fractal dimension</th>\n",
       "      <th>...</th>\n",
       "      <th>worst texture</th>\n",
       "      <th>worst perimeter</th>\n",
       "      <th>worst area</th>\n",
       "      <th>worst smoothness</th>\n",
       "      <th>worst compactness</th>\n",
       "      <th>worst concavity</th>\n",
       "      <th>worst concave points</th>\n",
       "      <th>worst symmetry</th>\n",
       "      <th>worst fractal dimension</th>\n",
       "      <th>target</th>\n",
       "    </tr>\n",
       "  </thead>\n",
       "  <tbody>\n",
       "    <tr>\n",
       "      <th>564</th>\n",
       "      <td>21.56</td>\n",
       "      <td>22.39</td>\n",
       "      <td>142.00</td>\n",
       "      <td>1479.0</td>\n",
       "      <td>0.11100</td>\n",
       "      <td>0.11590</td>\n",
       "      <td>0.24390</td>\n",
       "      <td>0.13890</td>\n",
       "      <td>0.1726</td>\n",
       "      <td>0.05623</td>\n",
       "      <td>...</td>\n",
       "      <td>26.40</td>\n",
       "      <td>166.10</td>\n",
       "      <td>2027.0</td>\n",
       "      <td>0.14100</td>\n",
       "      <td>0.21130</td>\n",
       "      <td>0.4107</td>\n",
       "      <td>0.2216</td>\n",
       "      <td>0.2060</td>\n",
       "      <td>0.07115</td>\n",
       "      <td>0.0</td>\n",
       "    </tr>\n",
       "    <tr>\n",
       "      <th>565</th>\n",
       "      <td>20.13</td>\n",
       "      <td>28.25</td>\n",
       "      <td>131.20</td>\n",
       "      <td>1261.0</td>\n",
       "      <td>0.09780</td>\n",
       "      <td>0.10340</td>\n",
       "      <td>0.14400</td>\n",
       "      <td>0.09791</td>\n",
       "      <td>0.1752</td>\n",
       "      <td>0.05533</td>\n",
       "      <td>...</td>\n",
       "      <td>38.25</td>\n",
       "      <td>155.00</td>\n",
       "      <td>1731.0</td>\n",
       "      <td>0.11660</td>\n",
       "      <td>0.19220</td>\n",
       "      <td>0.3215</td>\n",
       "      <td>0.1628</td>\n",
       "      <td>0.2572</td>\n",
       "      <td>0.06637</td>\n",
       "      <td>0.0</td>\n",
       "    </tr>\n",
       "    <tr>\n",
       "      <th>566</th>\n",
       "      <td>16.60</td>\n",
       "      <td>28.08</td>\n",
       "      <td>108.30</td>\n",
       "      <td>858.1</td>\n",
       "      <td>0.08455</td>\n",
       "      <td>0.10230</td>\n",
       "      <td>0.09251</td>\n",
       "      <td>0.05302</td>\n",
       "      <td>0.1590</td>\n",
       "      <td>0.05648</td>\n",
       "      <td>...</td>\n",
       "      <td>34.12</td>\n",
       "      <td>126.70</td>\n",
       "      <td>1124.0</td>\n",
       "      <td>0.11390</td>\n",
       "      <td>0.30940</td>\n",
       "      <td>0.3403</td>\n",
       "      <td>0.1418</td>\n",
       "      <td>0.2218</td>\n",
       "      <td>0.07820</td>\n",
       "      <td>0.0</td>\n",
       "    </tr>\n",
       "    <tr>\n",
       "      <th>567</th>\n",
       "      <td>20.60</td>\n",
       "      <td>29.33</td>\n",
       "      <td>140.10</td>\n",
       "      <td>1265.0</td>\n",
       "      <td>0.11780</td>\n",
       "      <td>0.27700</td>\n",
       "      <td>0.35140</td>\n",
       "      <td>0.15200</td>\n",
       "      <td>0.2397</td>\n",
       "      <td>0.07016</td>\n",
       "      <td>...</td>\n",
       "      <td>39.42</td>\n",
       "      <td>184.60</td>\n",
       "      <td>1821.0</td>\n",
       "      <td>0.16500</td>\n",
       "      <td>0.86810</td>\n",
       "      <td>0.9387</td>\n",
       "      <td>0.2650</td>\n",
       "      <td>0.4087</td>\n",
       "      <td>0.12400</td>\n",
       "      <td>0.0</td>\n",
       "    </tr>\n",
       "    <tr>\n",
       "      <th>568</th>\n",
       "      <td>7.76</td>\n",
       "      <td>24.54</td>\n",
       "      <td>47.92</td>\n",
       "      <td>181.0</td>\n",
       "      <td>0.05263</td>\n",
       "      <td>0.04362</td>\n",
       "      <td>0.00000</td>\n",
       "      <td>0.00000</td>\n",
       "      <td>0.1587</td>\n",
       "      <td>0.05884</td>\n",
       "      <td>...</td>\n",
       "      <td>30.37</td>\n",
       "      <td>59.16</td>\n",
       "      <td>268.6</td>\n",
       "      <td>0.08996</td>\n",
       "      <td>0.06444</td>\n",
       "      <td>0.0000</td>\n",
       "      <td>0.0000</td>\n",
       "      <td>0.2871</td>\n",
       "      <td>0.07039</td>\n",
       "      <td>1.0</td>\n",
       "    </tr>\n",
       "  </tbody>\n",
       "</table>\n",
       "<p>5 rows × 31 columns</p>\n",
       "</div>"
      ],
      "text/plain": [
       "     mean radius  mean texture  mean perimeter  mean area  mean smoothness  \\\n",
       "564        21.56         22.39          142.00     1479.0          0.11100   \n",
       "565        20.13         28.25          131.20     1261.0          0.09780   \n",
       "566        16.60         28.08          108.30      858.1          0.08455   \n",
       "567        20.60         29.33          140.10     1265.0          0.11780   \n",
       "568         7.76         24.54           47.92      181.0          0.05263   \n",
       "\n",
       "     mean compactness  mean concavity  mean concave points  mean symmetry  \\\n",
       "564           0.11590         0.24390              0.13890         0.1726   \n",
       "565           0.10340         0.14400              0.09791         0.1752   \n",
       "566           0.10230         0.09251              0.05302         0.1590   \n",
       "567           0.27700         0.35140              0.15200         0.2397   \n",
       "568           0.04362         0.00000              0.00000         0.1587   \n",
       "\n",
       "     mean fractal dimension  ...  worst texture  worst perimeter  worst area  \\\n",
       "564                 0.05623  ...          26.40           166.10      2027.0   \n",
       "565                 0.05533  ...          38.25           155.00      1731.0   \n",
       "566                 0.05648  ...          34.12           126.70      1124.0   \n",
       "567                 0.07016  ...          39.42           184.60      1821.0   \n",
       "568                 0.05884  ...          30.37            59.16       268.6   \n",
       "\n",
       "     worst smoothness  worst compactness  worst concavity  \\\n",
       "564           0.14100            0.21130           0.4107   \n",
       "565           0.11660            0.19220           0.3215   \n",
       "566           0.11390            0.30940           0.3403   \n",
       "567           0.16500            0.86810           0.9387   \n",
       "568           0.08996            0.06444           0.0000   \n",
       "\n",
       "     worst concave points  worst symmetry  worst fractal dimension  target  \n",
       "564                0.2216          0.2060                  0.07115     0.0  \n",
       "565                0.1628          0.2572                  0.06637     0.0  \n",
       "566                0.1418          0.2218                  0.07820     0.0  \n",
       "567                0.2650          0.4087                  0.12400     0.0  \n",
       "568                0.0000          0.2871                  0.07039     1.0  \n",
       "\n",
       "[5 rows x 31 columns]"
      ]
     },
     "execution_count": 10,
     "metadata": {},
     "output_type": "execute_result"
    }
   ],
   "source": [
    "cancer_df = pd.DataFrame(cancer_data)\n",
    "cancer_df.columns = np.append(dataset.feature_names, 'target')\n",
    "print(f'Shape: {cancer_df.shape}')\n",
    "cancer_df.tail()"
   ]
  },
  {
   "cell_type": "code",
   "execution_count": 11,
   "id": "d65ecbf3",
   "metadata": {},
   "outputs": [],
   "source": [
    "features = cancer_df.columns.values"
   ]
  },
  {
   "cell_type": "code",
   "execution_count": 12,
   "id": "5826ca07-da10-4e2e-a664-afad7ad3c724",
   "metadata": {},
   "outputs": [],
   "source": [
    "class_names=['Benign' , 'Malignant'] # name of classes\n",
    "def remap_labels(data_series):\n",
    "    data_series.replace(0, class_names[0],inplace=True)\n",
    "    data_series.replace(1, class_names[1],inplace=True)"
   ]
  },
  {
   "cell_type": "code",
   "execution_count": 13,
   "id": "35a8dd31-f0fe-4d33-99cd-a8fd2c22b03e",
   "metadata": {},
   "outputs": [],
   "source": [
    "# remap_labels(cancer_df['target'])\n",
    "# cancer_df.tail()"
   ]
  },
  {
   "cell_type": "code",
   "execution_count": 14,
   "id": "ea9c8a85-77c0-459f-b774-120603a881b4",
   "metadata": {},
   "outputs": [],
   "source": [
    "x_df = cancer_df.copy()\n",
    "y_df = x_df.pop(\"target\")\n",
    "x = x_df.copy().values\n",
    "y = y_df.copy().values"
   ]
  },
  {
   "cell_type": "code",
   "execution_count": 15,
   "id": "33339296",
   "metadata": {},
   "outputs": [
    {
     "name": "stdout",
     "output_type": "stream",
     "text": [
      "x shape: (569, 30)\n",
      "y shape: (569,)\n",
      "(31,) with values of ['mean radius' 'mean texture' 'mean perimeter' 'mean area'\n",
      " 'mean smoothness' 'mean compactness' 'mean concavity'\n",
      " 'mean concave points' 'mean symmetry' 'mean fractal dimension'\n",
      " 'radius error' 'texture error' 'perimeter error' 'area error'\n",
      " 'smoothness error' 'compactness error' 'concavity error'\n",
      " 'concave points error' 'symmetry error' 'fractal dimension error'\n",
      " 'worst radius' 'worst texture' 'worst perimeter' 'worst area'\n",
      " 'worst smoothness' 'worst compactness' 'worst concavity'\n",
      " 'worst concave points' 'worst symmetry' 'worst fractal dimension'\n",
      " 'target']\n"
     ]
    }
   ],
   "source": [
    "print(f\"x shape: {x.shape}\")\n",
    "print(f\"y shape: {y.shape}\")\n",
    "\n",
    "print(f\"{features.shape} with values of\", features)"
   ]
  },
  {
   "cell_type": "code",
   "execution_count": 16,
   "id": "e04dda46-d50a-4116-819c-ef7fd9b58d10",
   "metadata": {},
   "outputs": [],
   "source": [
    "scaler = MinMaxScaler()\n",
    "# scaler = StandardScaler()\n",
    "\n",
    "x = scaler.fit_transform(x)"
   ]
  },
  {
   "cell_type": "markdown",
   "id": "c603683a-ce0a-432d-8179-ff4832a79044",
   "metadata": {},
   "source": [
    "## Decompose and train"
   ]
  },
  {
   "cell_type": "code",
   "execution_count": 17,
   "id": "9d58ed0d-13ab-4579-b7be-c22c6b6d8ab9",
   "metadata": {
    "tags": []
   },
   "outputs": [],
   "source": [
    "class_names=['Benign' , 'Malignant'] # name of classes\n",
    "\n",
    "def decompose_and_train_SVC(kernel:str, output = False):\n",
    "    accuracy_list = list()\n",
    "    precision_list = list()\n",
    "    recall_list = list()\n",
    "    confusion_list = list()\n",
    "    report_list = list()\n",
    "\n",
    "    # linear at 8 dimensions and penalty = 50\n",
    "    # ---- one wrong\n",
    "    # rbf at 5 dimensions and penalty of 100\n",
    "    # ---- perfect\n",
    "\n",
    "    for num_components in range(1, (x.shape)[1] + 1):\n",
    "        column_components = ['Component ' + str(item)   for item in range(1 , num_components + 1)]\n",
    "        if output:\n",
    "            print(f\"{num_components} Component PCA ({q_num})\" + '\\n')\n",
    "\n",
    "        # --- DECOMPOSE\n",
    "        pca = PCA(n_components=num_components)\n",
    "        principal_components = pca.fit_transform(x.copy())\n",
    "        if output:\n",
    "            print('PCA shape:' , principalComponents.shape)\n",
    "        \n",
    "        y_test , y_pred = train_svc(principal_components,  y_df.copy().values, kernel, 100)\n",
    "        \n",
    "        confusion_list.append( metrics.confusion_matrix(y_test, y_pred) )\n",
    "        report_list.append(metrics.classification_report(y_test , y_pred, digits=4))\n",
    "        report = metrics.classification_report(y_test, y_pred, output_dict=True)\n",
    "        accuracy_list.append(  report[\"accuracy\"]                    )\n",
    "        precision_list.append((report[\"weighted avg\"])['precision']  )\n",
    "        recall_list.append(   (report[\"weighted avg\"])['recall']     )\n",
    "        \n",
    "        if output:\n",
    "            print('\\n' + '-'*50  +  '\\n')\n",
    "        \n",
    "    return accuracy_list , precision_list , recall_list , confusion_list , report_list"
   ]
  },
  {
   "cell_type": "markdown",
   "id": "4bd20c1c-1881-410c-9190-ed91b1276b13",
   "metadata": {},
   "source": [
    "## Output"
   ]
  },
  {
   "cell_type": "code",
   "execution_count": 18,
   "id": "247dbd00",
   "metadata": {},
   "outputs": [],
   "source": [
    "def graph_class_accuracy_v_dimensionality(accuracy, precision, recall, kernel_str):\n",
    "    # print report_list stats\n",
    "    plt.figure(kernel_str)\n",
    "    plt.plot(range(1, len(accuracy)+1) , accuracy , color='r')\n",
    "    plt.plot(range(1, len(precision)+1) , precision , color='g')\n",
    "    plt.plot(range(1, len(recall)+1) , recall , color='b')\n",
    "    plt.grid() \n",
    "    plt.xlabel('Dimensions') \n",
    "    plt.ylabel('Percentage') \n",
    "    plt.legend([\"Accuracy\", \"Precision (avg)\", \"Recall (avg)\"])\n",
    "    plt.title(f\"Dimensionality Results for {kernel_str} ({q_num})\") ;"
   ]
  },
  {
   "cell_type": "code",
   "execution_count": 19,
   "id": "676d97b6-10f3-4afb-a926-ee6b27b1bae4",
   "metadata": {
    "tags": []
   },
   "outputs": [
    {
     "data": {
      "image/png": "[encoded data removed]",
      "text/plain": [
       "<Figure size 432x288 with 1 Axes>"
      ]
     },
     "metadata": {
      "needs_background": "light"
     },
     "output_type": "display_data"
    },
    {
     "data": {
      "image/png": "[encoded data removed]",
      "text/plain": [
       "<Figure size 432x288 with 1 Axes>"
      ]
     },
     "metadata": {
      "needs_background": "light"
     },
     "output_type": "display_data"
    },
    {
     "data": {
      "image/png": "[encoded data removed]",
      "text/plain": [
       "<Figure size 432x288 with 1 Axes>"
      ]
     },
     "metadata": {
      "needs_background": "light"
     },
     "output_type": "display_data"
    },
    {
     "data": {
      "image/png": "[encoded data removed]",
      "text/plain": [
       "<Figure size 432x288 with 1 Axes>"
      ]
     },
     "metadata": {
      "needs_background": "light"
     },
     "output_type": "display_data"
    }
   ],
   "source": [
    "accuracy_dict = dict() \n",
    "precision_dict = dict() \n",
    "recall_dict = dict() \n",
    "confusion_dict = dict() \n",
    "report_dict = dict()\n",
    "\n",
    "useable_kernels = ['rbf', 'linear', 'poly', 'sigmoid']\n",
    "\n",
    "for item in useable_kernels:\n",
    "    accuracy_dict[item] , precision_dict[item] , recall_dict[item] , confusion_dict[item] , report_dict[item] = decompose_and_train_SVC(item)\n",
    "        \n",
    "    graph_class_accuracy_v_dimensionality(accuracy_dict[item], precision_dict[item], recall_dict[item], item)"
   ]
  },
  {
   "cell_type": "code",
   "execution_count": 20,
   "id": "b237e0f9",
   "metadata": {},
   "outputs": [],
   "source": [
    "from ipywidgets import interact\n",
    "\n",
    "def show_svc_data(kernel, dimension):\n",
    "    print(f'\\t\\t{dimension} Dimension Report with {kernel} kernelization \\n')\n",
    "    \n",
    "    print(report_dict[kernel][dimension-1])\n",
    "    \n",
    "    print_conf_matrix(confusion_dict[kernel][dimension - 1], f\"Confusion Matrix of {dimension} dimensions ({q_num})\", class_names)\n",
    "    \n",
    "    graph_class_accuracy_v_dimensionality(accuracy_dict[kernel], precision_dict[kernel], recall_dict[kernel], kernel)"
   ]
  },
  {
   "cell_type": "code",
   "execution_count": 21,
   "id": "7090c864-0237-4cc2-8c32-5dc5116e4aab",
   "metadata": {},
   "outputs": [
    {
     "data": {
      "application/vnd.jupyter.widget-view+json": {
       "model_id": "4d299385f5c943d290b717fd96198d24",
       "version_major": 2,
       "version_minor": 0
      },
      "text/plain": [
       "interactive(children=(Dropdown(description='kernel', options=('rbf', 'linear', 'poly', 'sigmoid'), value='rbf'…"
      ]
     },
     "metadata": {},
     "output_type": "display_data"
    }
   ],
   "source": [
    "interact(show_svc_data, kernel=useable_kernels , dimension=(1, x_df.shape[1]));"
   ]
  },
  {
   "cell_type": "code",
   "execution_count": 22,
   "id": "3a451774-189a-4c94-b168-96bc0bfcba9d",
   "metadata": {},
   "outputs": [
    {
     "name": "stdout",
     "output_type": "stream",
     "text": [
      "\t\t 5 Dimension Report\n",
      "\n",
      "\n",
      "              precision    recall  f1-score   support\n",
      "\n",
      "         0.0     1.0000    1.0000    1.0000        48\n",
      "         1.0     1.0000    1.0000    1.0000        66\n",
      "\n",
      "    accuracy                         1.0000       114\n",
      "   macro avg     1.0000    1.0000    1.0000       114\n",
      "weighted avg     1.0000    1.0000    1.0000       114\n",
      "\n"
     ]
    },
    {
     "data": {
      "image/png": "[encoded data removed]",
      "text/plain": [
       "<Figure size 432x288 with 2 Axes>"
      ]
     },
     "metadata": {
      "needs_background": "light"
     },
     "output_type": "display_data"
    }
   ],
   "source": [
    "inspect_dimension = 5\n",
    "inspect_type = 'rbf'\n",
    "\n",
    "\n",
    "print('\\t\\t', inspect_dimension, \"Dimension Report\\n\\n\")\n",
    "print(report_dict[inspect_type][inspect_dimension-1])\n",
    "print_conf_matrix(confusion_dict[inspect_type][inspect_dimension - 1], f\"Confusion Matrix of {inspect_dimension} dimensions ({q_num})\", class_names)"
   ]
  },
  {
   "cell_type": "markdown",
   "id": "5f1aa7d1-4c25-40d2-9ef8-9be42fa665e6",
   "metadata": {},
   "source": [
    "# Part 2\n",
    "SVR"
   ]
  },
  {
   "cell_type": "markdown",
   "id": "89c9acfa-80a8-4c07-8d3d-87993904657e",
   "metadata": {
    "tags": []
   },
   "source": [
    "## Setup"
   ]
  },
  {
   "cell_type": "code",
   "execution_count": 23,
   "id": "809ce44e",
   "metadata": {},
   "outputs": [],
   "source": [
    "q_num = \"Q2: SVR\""
   ]
  },
  {
   "cell_type": "code",
   "execution_count": 24,
   "id": "0b30a745-6f66-41a6-8463-98abf633da41",
   "metadata": {},
   "outputs": [
    {
     "data": {
      "text/html": [
       "<div>\n",
       "<style scoped>\n",
       "    .dataframe tbody tr th:only-of-type {\n",
       "        vertical-align: middle;\n",
       "    }\n",
       "\n",
       "    .dataframe tbody tr th {\n",
       "        vertical-align: top;\n",
       "    }\n",
       "\n",
       "    .dataframe thead th {\n",
       "        text-align: right;\n",
       "    }\n",
       "</style>\n",
       "<table border=\"1\" class=\"dataframe\">\n",
       "  <thead>\n",
       "    <tr style=\"text-align: right;\">\n",
       "      <th></th>\n",
       "      <th>price</th>\n",
       "      <th>area</th>\n",
       "      <th>bedrooms</th>\n",
       "      <th>bathrooms</th>\n",
       "      <th>stories</th>\n",
       "      <th>mainroad</th>\n",
       "      <th>guestroom</th>\n",
       "      <th>basement</th>\n",
       "      <th>hotwaterheating</th>\n",
       "      <th>airconditioning</th>\n",
       "      <th>parking</th>\n",
       "      <th>prefarea</th>\n",
       "      <th>furnishingstatus</th>\n",
       "    </tr>\n",
       "  </thead>\n",
       "  <tbody>\n",
       "    <tr>\n",
       "      <th>0</th>\n",
       "      <td>13300000</td>\n",
       "      <td>7420</td>\n",
       "      <td>4</td>\n",
       "      <td>2</td>\n",
       "      <td>3</td>\n",
       "      <td>yes</td>\n",
       "      <td>no</td>\n",
       "      <td>no</td>\n",
       "      <td>no</td>\n",
       "      <td>yes</td>\n",
       "      <td>2</td>\n",
       "      <td>yes</td>\n",
       "      <td>furnished</td>\n",
       "    </tr>\n",
       "    <tr>\n",
       "      <th>1</th>\n",
       "      <td>12250000</td>\n",
       "      <td>8960</td>\n",
       "      <td>4</td>\n",
       "      <td>4</td>\n",
       "      <td>4</td>\n",
       "      <td>yes</td>\n",
       "      <td>no</td>\n",
       "      <td>no</td>\n",
       "      <td>no</td>\n",
       "      <td>yes</td>\n",
       "      <td>3</td>\n",
       "      <td>no</td>\n",
       "      <td>furnished</td>\n",
       "    </tr>\n",
       "    <tr>\n",
       "      <th>2</th>\n",
       "      <td>12250000</td>\n",
       "      <td>9960</td>\n",
       "      <td>3</td>\n",
       "      <td>2</td>\n",
       "      <td>2</td>\n",
       "      <td>yes</td>\n",
       "      <td>no</td>\n",
       "      <td>yes</td>\n",
       "      <td>no</td>\n",
       "      <td>no</td>\n",
       "      <td>2</td>\n",
       "      <td>yes</td>\n",
       "      <td>semi-furnished</td>\n",
       "    </tr>\n",
       "    <tr>\n",
       "      <th>3</th>\n",
       "      <td>12215000</td>\n",
       "      <td>7500</td>\n",
       "      <td>4</td>\n",
       "      <td>2</td>\n",
       "      <td>2</td>\n",
       "      <td>yes</td>\n",
       "      <td>no</td>\n",
       "      <td>yes</td>\n",
       "      <td>no</td>\n",
       "      <td>yes</td>\n",
       "      <td>3</td>\n",
       "      <td>yes</td>\n",
       "      <td>furnished</td>\n",
       "    </tr>\n",
       "    <tr>\n",
       "      <th>4</th>\n",
       "      <td>11410000</td>\n",
       "      <td>7420</td>\n",
       "      <td>4</td>\n",
       "      <td>1</td>\n",
       "      <td>2</td>\n",
       "      <td>yes</td>\n",
       "      <td>yes</td>\n",
       "      <td>yes</td>\n",
       "      <td>no</td>\n",
       "      <td>yes</td>\n",
       "      <td>2</td>\n",
       "      <td>no</td>\n",
       "      <td>furnished</td>\n",
       "    </tr>\n",
       "  </tbody>\n",
       "</table>\n",
       "</div>"
      ],
      "text/plain": [
       "      price  area  bedrooms  bathrooms  stories mainroad guestroom basement  \\\n",
       "0  13300000  7420         4          2        3      yes        no       no   \n",
       "1  12250000  8960         4          4        4      yes        no       no   \n",
       "2  12250000  9960         3          2        2      yes        no      yes   \n",
       "3  12215000  7500         4          2        2      yes        no      yes   \n",
       "4  11410000  7420         4          1        2      yes       yes      yes   \n",
       "\n",
       "  hotwaterheating airconditioning  parking prefarea furnishingstatus  \n",
       "0              no             yes        2      yes        furnished  \n",
       "1              no             yes        3       no        furnished  \n",
       "2              no              no        2      yes   semi-furnished  \n",
       "3              no             yes        3      yes        furnished  \n",
       "4              no             yes        2       no        furnished  "
      ]
     },
     "execution_count": 24,
     "metadata": {},
     "output_type": "execute_result"
    }
   ],
   "source": [
    "housing_df = pd.DataFrame(pd.read_csv('Housing.csv'))\n",
    "housing_df.head()"
   ]
  },
  {
   "cell_type": "code",
   "execution_count": 25,
   "id": "288c840d-f3ea-40f1-90df-3080da305ff4",
   "metadata": {},
   "outputs": [
    {
     "name": "stdout",
     "output_type": "stream",
     "text": [
      "shape = (545, 13)\n",
      "features are: ['price', 'area', 'bedrooms', 'bathrooms', 'stories', 'mainroad', 'guestroom', 'basement', 'hotwaterheating', 'airconditioning', 'parking', 'prefarea', 'furnishingstatus']\n"
     ]
    }
   ],
   "source": [
    "print(f\"shape = {np.shape(housing_df)}\")\n",
    "\n",
    "# creates a list of all variables from the column names\n",
    "feature_list = list( housing_df.columns )\n",
    "\n",
    "print(f\"features are: {feature_list}\")"
   ]
  },
  {
   "cell_type": "code",
   "execution_count": 26,
   "id": "cdd4b91e-9c38-4269-9ec0-c5888063d6cd",
   "metadata": {},
   "outputs": [
    {
     "name": "stdout",
     "output_type": "stream",
     "text": [
      "binary vars = ['mainroad', 'guestroom', 'basement', 'hotwaterheating', 'airconditioning', 'prefarea']\n",
      "furnish vars = ['furnishingstatus']\n",
      "value vars = ['price', 'area', 'bedrooms', 'bathrooms', 'stories', 'parking']\n"
     ]
    }
   ],
   "source": [
    "# Maps to turn categorys into numbers \n",
    "def boolean_map(x):\n",
    "    return x.map({'yes': 1 , 'no': 0})\n",
    "def furnish_map(x):\n",
    "    return x.map({'furnished': 1 , 'semi-furnished': 0.5 , 'unfurnished': 0})\n",
    "\n",
    "# Extracts the yes and no column names\n",
    "binary_vars = [*feature_list[5:10], feature_list[11]]\n",
    "print(f\"binary vars = {binary_vars}\")\n",
    "\n",
    "# Extracts the furnishing column names\n",
    "furnish_vars = [feature_list[12]]\n",
    "print(f\"furnish vars = {furnish_vars}\")\n",
    "\n",
    "# Extracts the column names that are actual values\n",
    "valued_vars = feature_list.copy()\n",
    "[valued_vars.remove( item ) for item in binary_vars]\n",
    "[valued_vars.remove( item ) for item in furnish_vars]\n",
    "print(f\"value vars = {valued_vars}\")"
   ]
  },
  {
   "cell_type": "code",
   "execution_count": 27,
   "id": "e3ec4cf6",
   "metadata": {},
   "outputs": [],
   "source": [
    "x_df = housing_df.copy()\n",
    "\n",
    "## scale data\n",
    "scaler = StandardScaler()\n",
    "# scaler = MinMaxScaler()\n",
    "\n",
    "x_df[valued_vars] = scaler.fit_transform(x_df[valued_vars])\n",
    "\n",
    "## map text values\n",
    "x_df[binary_vars] = x_df[binary_vars].apply(boolean_map)\n",
    "x_df[furnish_vars] = x_df[furnish_vars].apply(furnish_map)\n",
    "\n",
    "## make y_df\n",
    "y_df = x_df.pop('price')\n"
   ]
  },
  {
   "cell_type": "code",
   "execution_count": 28,
   "id": "77a1df47",
   "metadata": {},
   "outputs": [],
   "source": [
    "# input_values = valued_vars.copy()\n",
    "# input_values.remove('price')\n",
    "\n",
    "\n",
    "# x_df = x_df[input_values]"
   ]
  },
  {
   "cell_type": "code",
   "execution_count": 29,
   "id": "00c91ed6",
   "metadata": {},
   "outputs": [
    {
     "data": {
      "text/html": [
       "<div>\n",
       "<style scoped>\n",
       "    .dataframe tbody tr th:only-of-type {\n",
       "        vertical-align: middle;\n",
       "    }\n",
       "\n",
       "    .dataframe tbody tr th {\n",
       "        vertical-align: top;\n",
       "    }\n",
       "\n",
       "    .dataframe thead th {\n",
       "        text-align: right;\n",
       "    }\n",
       "</style>\n",
       "<table border=\"1\" class=\"dataframe\">\n",
       "  <thead>\n",
       "    <tr style=\"text-align: right;\">\n",
       "      <th></th>\n",
       "      <th>area</th>\n",
       "      <th>bedrooms</th>\n",
       "      <th>bathrooms</th>\n",
       "      <th>stories</th>\n",
       "      <th>mainroad</th>\n",
       "      <th>guestroom</th>\n",
       "      <th>basement</th>\n",
       "      <th>hotwaterheating</th>\n",
       "      <th>airconditioning</th>\n",
       "      <th>parking</th>\n",
       "      <th>prefarea</th>\n",
       "      <th>furnishingstatus</th>\n",
       "    </tr>\n",
       "  </thead>\n",
       "  <tbody>\n",
       "    <tr>\n",
       "      <th>0</th>\n",
       "      <td>1.046726</td>\n",
       "      <td>1.403419</td>\n",
       "      <td>1.421812</td>\n",
       "      <td>1.378217</td>\n",
       "      <td>1</td>\n",
       "      <td>0</td>\n",
       "      <td>0</td>\n",
       "      <td>0</td>\n",
       "      <td>1</td>\n",
       "      <td>1.517692</td>\n",
       "      <td>1</td>\n",
       "      <td>1.0</td>\n",
       "    </tr>\n",
       "    <tr>\n",
       "      <th>1</th>\n",
       "      <td>1.757010</td>\n",
       "      <td>1.403419</td>\n",
       "      <td>5.405809</td>\n",
       "      <td>2.532024</td>\n",
       "      <td>1</td>\n",
       "      <td>0</td>\n",
       "      <td>0</td>\n",
       "      <td>0</td>\n",
       "      <td>1</td>\n",
       "      <td>2.679409</td>\n",
       "      <td>0</td>\n",
       "      <td>1.0</td>\n",
       "    </tr>\n",
       "    <tr>\n",
       "      <th>2</th>\n",
       "      <td>2.218232</td>\n",
       "      <td>0.047278</td>\n",
       "      <td>1.421812</td>\n",
       "      <td>0.224410</td>\n",
       "      <td>1</td>\n",
       "      <td>0</td>\n",
       "      <td>1</td>\n",
       "      <td>0</td>\n",
       "      <td>0</td>\n",
       "      <td>1.517692</td>\n",
       "      <td>1</td>\n",
       "      <td>0.5</td>\n",
       "    </tr>\n",
       "    <tr>\n",
       "      <th>3</th>\n",
       "      <td>1.083624</td>\n",
       "      <td>1.403419</td>\n",
       "      <td>1.421812</td>\n",
       "      <td>0.224410</td>\n",
       "      <td>1</td>\n",
       "      <td>0</td>\n",
       "      <td>1</td>\n",
       "      <td>0</td>\n",
       "      <td>1</td>\n",
       "      <td>2.679409</td>\n",
       "      <td>1</td>\n",
       "      <td>1.0</td>\n",
       "    </tr>\n",
       "    <tr>\n",
       "      <th>4</th>\n",
       "      <td>1.046726</td>\n",
       "      <td>1.403419</td>\n",
       "      <td>-0.570187</td>\n",
       "      <td>0.224410</td>\n",
       "      <td>1</td>\n",
       "      <td>1</td>\n",
       "      <td>1</td>\n",
       "      <td>0</td>\n",
       "      <td>1</td>\n",
       "      <td>1.517692</td>\n",
       "      <td>0</td>\n",
       "      <td>1.0</td>\n",
       "    </tr>\n",
       "  </tbody>\n",
       "</table>\n",
       "</div>"
      ],
      "text/plain": [
       "       area  bedrooms  bathrooms   stories  mainroad  guestroom  basement  \\\n",
       "0  1.046726  1.403419   1.421812  1.378217         1          0         0   \n",
       "1  1.757010  1.403419   5.405809  2.532024         1          0         0   \n",
       "2  2.218232  0.047278   1.421812  0.224410         1          0         1   \n",
       "3  1.083624  1.403419   1.421812  0.224410         1          0         1   \n",
       "4  1.046726  1.403419  -0.570187  0.224410         1          1         1   \n",
       "\n",
       "   hotwaterheating  airconditioning   parking  prefarea  furnishingstatus  \n",
       "0                0                1  1.517692         1               1.0  \n",
       "1                0                1  2.679409         0               1.0  \n",
       "2                0                0  1.517692         1               0.5  \n",
       "3                0                1  2.679409         1               1.0  \n",
       "4                0                1  1.517692         0               1.0  "
      ]
     },
     "execution_count": 29,
     "metadata": {},
     "output_type": "execute_result"
    }
   ],
   "source": [
    "x_df.head()"
   ]
  },
  {
   "cell_type": "code",
   "execution_count": 30,
   "id": "937aec3e",
   "metadata": {},
   "outputs": [
    {
     "data": {
      "text/plain": [
       "0    4.566365\n",
       "1    4.004484\n",
       "2    4.004484\n",
       "3    3.985755\n",
       "4    3.554979\n",
       "Name: price, dtype: float64"
      ]
     },
     "execution_count": 30,
     "metadata": {},
     "output_type": "execute_result"
    }
   ],
   "source": [
    "y_df.head()"
   ]
  },
  {
   "cell_type": "markdown",
   "id": "de2ceefb",
   "metadata": {},
   "source": [
    "## Decomposition Function"
   ]
  },
  {
   "cell_type": "code",
   "execution_count": 31,
   "id": "b7e8bda4",
   "metadata": {
    "tags": []
   },
   "outputs": [],
   "source": [
    "def decompose_and_train_SVR(kernel:str, output = False):\n",
    "    r2_score_list = list()\n",
    "        \n",
    "    for num_components in range(1, (x_df.shape)[1] + 1):\n",
    "        column_components = ['Component ' + str(item)   for item in range(1 , num_components + 1)]\n",
    "        if output: \n",
    "            print(f\"{num_components} Component PCA for {kernel} ({q_num})\" + '\\n')\n",
    "\n",
    "        # --- DECOMPOSE\n",
    "        pca = PCA(n_components=num_components)\n",
    "        principalComponents = pca.fit_transform(x_df.copy().values)\n",
    "        if output: \n",
    "            print('PCA shape:' , principalComponents.shape)\n",
    "\n",
    "        # confusion list\n",
    "        # confusion_list.append(metrics.confusion_matrix(y_test, y_pred))\n",
    "\n",
    "        # output\n",
    "        y_test , y_pred = train_svr(principalComponents, y_df.copy().values, kernel, 1)\n",
    "\n",
    "        # report string\n",
    "        report = metrics.r2_score(y_test, y_pred)\n",
    "        r2_score_list.append(report)\n",
    "        if output: \n",
    "            print(\"R2 score: \", report)\n",
    "            print('\\n' + '-'*75  +  '\\n')\n",
    "    return r2_score_list"
   ]
  },
  {
   "cell_type": "markdown",
   "id": "d90d6d51",
   "metadata": {},
   "source": [
    "## Output"
   ]
  },
  {
   "cell_type": "code",
   "execution_count": 32,
   "id": "d2fb3e7e",
   "metadata": {},
   "outputs": [],
   "source": [
    "def graph_r2_v_dimensionality(r2_list, kernel_str:str, color = 'r'):\n",
    "    # print report_list stats\n",
    "    fig = plt.figure(kernel_str)\n",
    "    plt.plot(range(1, len(r2_list)+1) , r2_list , color=color)\n",
    "    plt.grid() \n",
    "    plt.xlabel('Dimensions') \n",
    "    plt.ylabel('Percentage') \n",
    "    plt.legend([\"R2_score\"])\n",
    "    plt.title(f\"Dimensionality Results of {kernel_str} ({q_num})\") ;"
   ]
  },
  {
   "cell_type": "code",
   "execution_count": 33,
   "id": "8fce2108-f850-4636-9187-b17d4cdb81a5",
   "metadata": {
    "tags": []
   },
   "outputs": [
    {
     "name": "stdout",
     "output_type": "stream",
     "text": [
      "{}\n",
      "\n",
      "Kernel is rbf \n",
      "\n",
      "\n",
      "Kernel is poly \n",
      "\n",
      "\n",
      "Kernel is sigmoid \n",
      "\n",
      "\n",
      "Kernel is linear \n",
      "\n",
      "linear\n"
     ]
    }
   ],
   "source": [
    "useable_kernels = ['rbf', 'poly', 'sigmoid', 'linear']\n",
    "results = dict()\n",
    "graph = dict()\n",
    "\n",
    "print(results)\n",
    "\n",
    "for kernel in useable_kernels:\n",
    "    print('\\nKernel is', kernel, '\\n')\n",
    "    \n",
    "    results[kernel] = decompose_and_train_SVR(kernel)\n",
    "    \n",
    "    # print('#'*50)\n",
    "print(kernel)"
   ]
  },
  {
   "cell_type": "code",
   "execution_count": 34,
   "id": "b7c66cbd",
   "metadata": {},
   "outputs": [],
   "source": [
    "from ipywidgets import interact\n",
    "\n",
    "def show_svr_data(kernel, dimension):\n",
    "    graph_r2_v_dimensionality(results[kernel], kernel)\n",
    "    print(f'With {kernel} kernelization the accuracy with {dimension} dimensions is { round( (results[kernel]) [dimension-1] * 100 , 4)}%');"
   ]
  },
  {
   "cell_type": "code",
   "execution_count": 35,
   "id": "67730d86-74d9-41fa-b236-6100d1fa2760",
   "metadata": {},
   "outputs": [
    {
     "data": {
      "application/vnd.jupyter.widget-view+json": {
       "model_id": "32adc13bb5bc46228539f796ca3b745f",
       "version_major": 2,
       "version_minor": 0
      },
      "text/plain": [
       "interactive(children=(Dropdown(description='kernel', options=('rbf', 'poly', 'sigmoid', 'linear'), value='rbf'…"
      ]
     },
     "metadata": {},
     "output_type": "display_data"
    }
   ],
   "source": [
    "interact(show_svr_data, kernel=useable_kernels , dimension=(1, x_df.shape[1]));"
   ]
  },
  {
   "cell_type": "code",
   "execution_count": null,
   "id": "f3b34edc-c0a3-44d3-bcbd-32756892eabf",
   "metadata": {},
   "outputs": [],
   "source": []
  }
 ],
 "metadata": {
  "kernelspec": {
   "display_name": "Python 3 (ipykernel)",
   "language": "python",
   "name": "python3"
  },
  "language_info": {
   "codemirror_mode": {
    "name": "ipython",
    "version": 3
   },
   "file_extension": ".py",
   "mimetype": "text/x-python",
   "name": "python",
   "nbconvert_exporter": "python",
   "pygments_lexer": "ipython3",
   "version": "3.9.12"
  },
  "vscode": {
   "interpreter": {
    "hash": "77aa5c7a8032890130e9a412da4828609b1dfa25c62620094c03af7a5cea44b0"
   }
  }
 },
 "nbformat": 4,
 "nbformat_minor": 5
}
