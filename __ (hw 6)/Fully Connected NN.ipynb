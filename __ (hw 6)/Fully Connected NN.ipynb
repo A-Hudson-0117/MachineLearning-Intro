{
 "cells": [
  {
   "cell_type": "markdown",
   "metadata": {},
   "source": [
    "# Fully Connected NN (Question 1b)"
   ]
  },
  {
   "cell_type": "code",
   "execution_count": 1,
   "metadata": {},
   "outputs": [],
   "source": [
    "import matplotlib.pyplot as plt\n",
    "import torch\n",
    "from torchvision import transforms\n",
    "from torchvision import datasets\n",
    "import torch.nn as nn\n",
    "from collections import OrderedDict"
   ]
  },
  {
   "cell_type": "markdown",
   "metadata": {},
   "source": [
    "# Import Data"
   ]
  },
  {
   "cell_type": "markdown",
   "metadata": {},
   "source": [
    "## download data"
   ]
  },
  {
   "cell_type": "code",
   "execution_count": 2,
   "metadata": {},
   "outputs": [
    {
     "name": "stdout",
     "output_type": "stream",
     "text": [
      "Files already downloaded and verified\n",
      "Files already downloaded and verified\n"
     ]
    }
   ],
   "source": [
    "data_path = '../dataset/cifar10'\n",
    "cifar10     = datasets.CIFAR10(data_path, train=True , download=True)\n",
    "cifar10_val = datasets.CIFAR10(data_path, train=False, download=True)"
   ]
  },
  {
   "cell_type": "code",
   "execution_count": 3,
   "metadata": {},
   "outputs": [],
   "source": [
    "cifar10_map = {\n",
    "    0: \"airplane\",\n",
    "    1: \"automobile\",\n",
    "    2: \"bird\",\n",
    "    3: \"cat\",\n",
    "    4: \"deer\",\n",
    "    5: \"dog\",\n",
    "    6: \"frog\",\n",
    "    7: \"horse\",\n",
    "    8: \"ship\",\n",
    "    9: \"truck\"\n",
    "}\n",
    "sample_image = 45"
   ]
  },
  {
   "cell_type": "markdown",
   "metadata": {},
   "source": [
    "## get std deviation and mean"
   ]
  },
  {
   "cell_type": "code",
   "execution_count": 4,
   "metadata": {},
   "outputs": [],
   "source": [
    "tensor_cifar10 = datasets.CIFAR10(data_path, train=True, download=False,\n",
    "                          transform=transforms.ToTensor())"
   ]
  },
  {
   "cell_type": "code",
   "execution_count": 5,
   "metadata": {},
   "outputs": [
    {
     "data": {
      "text/plain": [
       "torch.Size([3, 32, 32, 50000])"
      ]
     },
     "execution_count": 5,
     "metadata": {},
     "output_type": "execute_result"
    }
   ],
   "source": [
    "imgs = torch.stack([img_t for img_t, _ in tensor_cifar10], dim=3)\n",
    "imgs.shape"
   ]
  },
  {
   "cell_type": "code",
   "execution_count": 6,
   "metadata": {},
   "outputs": [
    {
     "name": "stdout",
     "output_type": "stream",
     "text": [
      "mean = tensor([0.4914, 0.4822, 0.4465])\n",
      "std = tensor([0.2470, 0.2435, 0.2616])\n"
     ]
    }
   ],
   "source": [
    "data_mean = imgs.view(3, -1).mean(dim=1)\n",
    "data_std  = imgs.view(3, -1).std(dim=1)\n",
    "\n",
    "print(f'mean = {data_mean}')\n",
    "print(f'std = {data_std}')"
   ]
  },
  {
   "cell_type": "markdown",
   "metadata": {},
   "source": [
    "## clear memory"
   ]
  },
  {
   "cell_type": "code",
   "execution_count": 7,
   "metadata": {},
   "outputs": [
    {
     "name": "stdout",
     "output_type": "stream",
     "text": [
      "deleted\n"
     ]
    }
   ],
   "source": [
    "# to save memory\n",
    "del cifar10, cifar10_val, tensor_cifar10, imgs\n",
    "try:\n",
    "    cifar10[0]\n",
    "    print(\"not deleted\")\n",
    "except:\n",
    "    print(\"deleted\")"
   ]
  },
  {
   "cell_type": "markdown",
   "metadata": {},
   "source": [
    "## real import  "
   ]
  },
  {
   "cell_type": "code",
   "execution_count": 8,
   "metadata": {},
   "outputs": [],
   "source": [
    "cifar10 = datasets.CIFAR10(\n",
    "    data_path, train=True, download=False,\n",
    "    transform=transforms.Compose([\n",
    "        transforms.ToTensor(),\n",
    "        transforms.Normalize(data_mean, # mean of entire dataset\n",
    "                             data_std) # std deviation of entire dataset\n",
    "    ]))"
   ]
  },
  {
   "cell_type": "code",
   "execution_count": 9,
   "metadata": {},
   "outputs": [],
   "source": [
    "cifar10_val = datasets.CIFAR10(\n",
    "    data_path, train=False, download=False,\n",
    "    transform=transforms.Compose([\n",
    "        transforms.ToTensor(),\n",
    "        transforms.Normalize(data_mean, data_std)\n",
    "    ]))"
   ]
  },
  {
   "cell_type": "markdown",
   "metadata": {},
   "source": [
    "## Verify Data"
   ]
  },
  {
   "cell_type": "code",
   "execution_count": 10,
   "metadata": {},
   "outputs": [
    {
     "name": "stderr",
     "output_type": "stream",
     "text": [
      "Clipping input data to the valid range for imshow with RGB data ([0..1] for floats or [0..255] for integers).\n"
     ]
    },
    {
     "data": {
      "image/png": "[encoded data removed]",
      "text/plain": [
       "<Figure size 432x288 with 1 Axes>"
      ]
     },
     "metadata": {
      "needs_background": "light"
     },
     "output_type": "display_data"
    },
    {
     "name": "stdout",
     "output_type": "stream",
     "text": [
      "torch.Size([3, 32, 32])\n"
     ]
    },
    {
     "data": {
      "text/plain": [
       "3072"
      ]
     },
     "execution_count": 10,
     "metadata": {},
     "output_type": "execute_result"
    }
   ],
   "source": [
    "img, label = cifar10[sample_image]\n",
    "\n",
    "plt.imshow(img.permute(1, 2, 0))\n",
    "plt.show()\n",
    "\n",
    "print(img.shape)\n",
    "torch.numel(img)"
   ]
  },
  {
   "cell_type": "markdown",
   "metadata": {},
   "source": [
    "# multi-layered NN\n",
    "part b"
   ]
  },
  {
   "cell_type": "markdown",
   "metadata": {},
   "source": [
    "## Setup"
   ]
  },
  {
   "cell_type": "code",
   "execution_count": 11,
   "metadata": {},
   "outputs": [
    {
     "data": {
      "text/plain": [
       "Sequential(\n",
       "  (input_layer): Linear(in_features=3072, out_features=1024, bias=True)\n",
       "  (hidden_activation_1): Tanh()\n",
       "  (hidden_layer_1): Linear(in_features=1024, out_features=512, bias=True)\n",
       "  (hidden_layer_2): Linear(in_features=512, out_features=256, bias=True)\n",
       "  (output): Linear(in_features=256, out_features=10, bias=True)\n",
       ")"
      ]
     },
     "execution_count": 11,
     "metadata": {},
     "output_type": "execute_result"
    }
   ],
   "source": [
    "n_in = torch.numel(img)  # Number of elements in 3 x 32 x 32 image\n",
    "                         # IE.  3072\n",
    "n_out = len(cifar10_map) # number of possible outputs\n",
    "                         # IE.  10\n",
    "\n",
    "n_inner_1 = n_in // 3\n",
    "n_inner_2 = n_inner_1 // 2\n",
    "n_inner_3 = n_inner_2 // 2\n",
    "\n",
    "\n",
    "model = nn.Sequential(OrderedDict([\n",
    "        (\n",
    "        \"input_layer\",\n",
    "        nn.Linear(n_in, n_inner_1)\n",
    "        ),\n",
    "        (\n",
    "        \"hidden_activation_1\",\n",
    "        nn.Tanh()\n",
    "        ),\n",
    "        (\n",
    "        \"hidden_layer_1\",\n",
    "        nn.Linear(n_inner_1, n_inner_2)\n",
    "        ),\n",
    "        (\n",
    "        \"hidden_activation_1\",\n",
    "        nn.Tanh()\n",
    "        ),\n",
    "        (\n",
    "        \"hidden_layer_2\",\n",
    "        nn.Linear(n_inner_2, n_inner_3)\n",
    "        ),\n",
    "        (\n",
    "        \"hidden_activation_1\",\n",
    "        nn.Tanh()\n",
    "        ),\n",
    "        (\n",
    "        \"output\",\n",
    "        nn.Linear(n_inner_3, n_out)\n",
    "        )\n",
    "    ]))\n",
    "model"
   ]
  },
  {
   "cell_type": "code",
   "execution_count": 12,
   "metadata": {},
   "outputs": [],
   "source": [
    "loss = nn.CrossEntropyLoss()"
   ]
  },
  {
   "cell_type": "markdown",
   "metadata": {},
   "source": [
    "## setup test"
   ]
  },
  {
   "cell_type": "code",
   "execution_count": 13,
   "metadata": {},
   "outputs": [
    {
     "data": {
      "text/plain": [
       "tensor(2.2347, grad_fn=<NllLossBackward0>)"
      ]
     },
     "execution_count": 13,
     "metadata": {},
     "output_type": "execute_result"
    }
   ],
   "source": [
    "img, label = cifar10[sample_image]\n",
    "\n",
    "out = model(img.view(-1).unsqueeze(0))\n",
    "\n",
    "loss(out, torch.tensor([label]))"
   ]
  },
  {
   "cell_type": "markdown",
   "metadata": {},
   "source": [
    "## training function"
   ]
  },
  {
   "cell_type": "code",
   "execution_count": 14,
   "metadata": {},
   "outputs": [],
   "source": [
    "import time\n",
    "\n",
    "def training(training_imgs, loss_fn, optimizer, n_epochs:int, report_period:int = 10):\n",
    "    sum_time = 0\n",
    "    for epoch in range(n_epochs):\n",
    "        start = time.time()\n",
    "        \n",
    "        for img, label in training_imgs:\n",
    "            out = model(img.view(img.shape[0], -1))\n",
    "            loss = loss_fn(out, label)\n",
    "                    \n",
    "            optimizer.zero_grad()\n",
    "            loss.backward()\n",
    "            optimizer.step()\n",
    "        \n",
    "        sum_time += time.time() - start\n",
    "        if ((epoch % report_period) == 0) or (epoch == n_epochs):\n",
    "            print(f\"Epoch: {epoch}, Loss: {float(loss):.6f}, AvgTime: {sum_time/(epoch+1):.2f} s\")"
   ]
  },
  {
   "cell_type": "markdown",
   "metadata": {},
   "source": [
    "## training"
   ]
  },
  {
   "cell_type": "code",
   "execution_count": 15,
   "metadata": {},
   "outputs": [
    {
     "data": {
      "text/plain": [
       "Sequential(\n",
       "  (input_layer): Linear(in_features=3072, out_features=1024, bias=True)\n",
       "  (hidden_activation_1): Tanh()\n",
       "  (hidden_layer_1): Linear(in_features=1024, out_features=512, bias=True)\n",
       "  (hidden_layer_2): Linear(in_features=512, out_features=256, bias=True)\n",
       "  (output): Linear(in_features=256, out_features=10, bias=True)\n",
       ")"
      ]
     },
     "execution_count": 15,
     "metadata": {},
     "output_type": "execute_result"
    }
   ],
   "source": [
    "train_loader = torch.utils.data.DataLoader(\n",
    "                    cifar10, \n",
    "                    batch_size=64,\n",
    "                    shuffle=True\n",
    "                    )\n",
    "\n",
    "learning_rate = 1e-2\n",
    "\n",
    "optimizer = torch.optim.SGD(model.parameters(), lr=learning_rate)\n",
    "\n",
    "loss = nn.CrossEntropyLoss()\n",
    "\n",
    "n_epochs = 300\n",
    "\n",
    "model"
   ]
  },
  {
   "cell_type": "code",
   "execution_count": 16,
   "metadata": {},
   "outputs": [
    {
     "name": "stdout",
     "output_type": "stream",
     "text": [
      "Epoch: 0, Loss: 1.79097, Time: 28.19 s\n",
      "Epoch: 5, Loss: 1.58499, Time: 27.92 s\n",
      "Epoch: 10, Loss: 1.22136, Time: 28.27 s\n",
      "Epoch: 15, Loss: 1.63795, Time: 28.33 s\n",
      "Epoch: 20, Loss: 0.88324, Time: 27.02 s\n",
      "Epoch: 25, Loss: 0.82814, Time: 26.24 s\n",
      "Epoch: 30, Loss: 0.60756, Time: 26.80 s\n",
      "Epoch: 35, Loss: 0.24857, Time: 26.42 s\n",
      "Epoch: 40, Loss: 0.54269, Time: 26.51 s\n",
      "Epoch: 45, Loss: 0.10223, Time: 26.33 s\n",
      "Epoch: 50, Loss: 0.22096, Time: 28.08 s\n",
      "Epoch: 55, Loss: 0.10606, Time: 27.85 s\n",
      "Epoch: 60, Loss: 0.00576, Time: 28.23 s\n",
      "Epoch: 65, Loss: 0.00101, Time: 27.65 s\n",
      "Epoch: 70, Loss: 0.00156, Time: 27.27 s\n",
      "Epoch: 75, Loss: 0.00272, Time: 27.54 s\n",
      "Epoch: 80, Loss: 0.00034, Time: 27.43 s\n",
      "Epoch: 85, Loss: 0.00086, Time: 27.62 s\n",
      "Epoch: 90, Loss: 0.00091, Time: 27.50 s\n",
      "Epoch: 95, Loss: 0.00047, Time: 27.74 s\n",
      "Epoch: 100, Loss: 0.00019, Time: 28.53 s\n"
     ]
    },
    {
     "ename": "KeyboardInterrupt",
     "evalue": "",
     "output_type": "error",
     "traceback": [
      "\u001b[1;31m---------------------------------------------------------------------------\u001b[0m",
      "\u001b[1;31mKeyboardInterrupt\u001b[0m                         Traceback (most recent call last)",
      "\u001b[1;32md:\\Adam\\Documents\\__School\\_UNC C\\ecgr 4105\\MachineLearning-Intro\\__ (hw 6)\\Fully Connected NN.ipynb Cell 28\u001b[0m in \u001b[0;36m<cell line: 1>\u001b[1;34m()\u001b[0m\n\u001b[1;32m----> <a href='vscode-notebook-cell:/d%3A/Adam/Documents/__School/_UNC%20C/ecgr%204105/MachineLearning-Intro/__%20%28hw%206%29/Fully%20Connected%20NN.ipynb#X36sZmlsZQ%3D%3D?line=0'>1</a>\u001b[0m training(train_loader, \n\u001b[0;32m      <a href='vscode-notebook-cell:/d%3A/Adam/Documents/__School/_UNC%20C/ecgr%204105/MachineLearning-Intro/__%20%28hw%206%29/Fully%20Connected%20NN.ipynb#X36sZmlsZQ%3D%3D?line=1'>2</a>\u001b[0m          loss, \n\u001b[0;32m      <a href='vscode-notebook-cell:/d%3A/Adam/Documents/__School/_UNC%20C/ecgr%204105/MachineLearning-Intro/__%20%28hw%206%29/Fully%20Connected%20NN.ipynb#X36sZmlsZQ%3D%3D?line=2'>3</a>\u001b[0m          optimizer, \n\u001b[0;32m      <a href='vscode-notebook-cell:/d%3A/Adam/Documents/__School/_UNC%20C/ecgr%204105/MachineLearning-Intro/__%20%28hw%206%29/Fully%20Connected%20NN.ipynb#X36sZmlsZQ%3D%3D?line=3'>4</a>\u001b[0m          n_epochs,\n\u001b[0;32m      <a href='vscode-notebook-cell:/d%3A/Adam/Documents/__School/_UNC%20C/ecgr%204105/MachineLearning-Intro/__%20%28hw%206%29/Fully%20Connected%20NN.ipynb#X36sZmlsZQ%3D%3D?line=4'>5</a>\u001b[0m          report_period\u001b[39m=\u001b[39;49m\u001b[39m5\u001b[39;49m\n\u001b[0;32m      <a href='vscode-notebook-cell:/d%3A/Adam/Documents/__School/_UNC%20C/ecgr%204105/MachineLearning-Intro/__%20%28hw%206%29/Fully%20Connected%20NN.ipynb#X36sZmlsZQ%3D%3D?line=5'>6</a>\u001b[0m          )\n",
      "\u001b[1;32md:\\Adam\\Documents\\__School\\_UNC C\\ecgr 4105\\MachineLearning-Intro\\__ (hw 6)\\Fully Connected NN.ipynb Cell 28\u001b[0m in \u001b[0;36mtraining\u001b[1;34m(training_imgs, loss_fn, optimizer, n_epochs, report_period)\u001b[0m\n\u001b[0;32m      <a href='vscode-notebook-cell:/d%3A/Adam/Documents/__School/_UNC%20C/ecgr%204105/MachineLearning-Intro/__%20%28hw%206%29/Fully%20Connected%20NN.ipynb#X36sZmlsZQ%3D%3D?line=8'>9</a>\u001b[0m     loss \u001b[39m=\u001b[39m loss_fn(out, label)\n\u001b[0;32m     <a href='vscode-notebook-cell:/d%3A/Adam/Documents/__School/_UNC%20C/ecgr%204105/MachineLearning-Intro/__%20%28hw%206%29/Fully%20Connected%20NN.ipynb#X36sZmlsZQ%3D%3D?line=10'>11</a>\u001b[0m     optimizer\u001b[39m.\u001b[39mzero_grad()\n\u001b[1;32m---> <a href='vscode-notebook-cell:/d%3A/Adam/Documents/__School/_UNC%20C/ecgr%204105/MachineLearning-Intro/__%20%28hw%206%29/Fully%20Connected%20NN.ipynb#X36sZmlsZQ%3D%3D?line=11'>12</a>\u001b[0m     loss\u001b[39m.\u001b[39;49mbackward()\n\u001b[0;32m     <a href='vscode-notebook-cell:/d%3A/Adam/Documents/__School/_UNC%20C/ecgr%204105/MachineLearning-Intro/__%20%28hw%206%29/Fully%20Connected%20NN.ipynb#X36sZmlsZQ%3D%3D?line=12'>13</a>\u001b[0m     optimizer\u001b[39m.\u001b[39mstep()\n\u001b[0;32m     <a href='vscode-notebook-cell:/d%3A/Adam/Documents/__School/_UNC%20C/ecgr%204105/MachineLearning-Intro/__%20%28hw%206%29/Fully%20Connected%20NN.ipynb#X36sZmlsZQ%3D%3D?line=14'>15</a>\u001b[0m end \u001b[39m=\u001b[39m time\u001b[39m.\u001b[39mtime()\n",
      "File \u001b[1;32mc:\\Users\\Adam\\anaconda3\\lib\\site-packages\\torch\\_tensor.py:487\u001b[0m, in \u001b[0;36mTensor.backward\u001b[1;34m(self, gradient, retain_graph, create_graph, inputs)\u001b[0m\n\u001b[0;32m    477\u001b[0m \u001b[39mif\u001b[39;00m has_torch_function_unary(\u001b[39mself\u001b[39m):\n\u001b[0;32m    478\u001b[0m     \u001b[39mreturn\u001b[39;00m handle_torch_function(\n\u001b[0;32m    479\u001b[0m         Tensor\u001b[39m.\u001b[39mbackward,\n\u001b[0;32m    480\u001b[0m         (\u001b[39mself\u001b[39m,),\n\u001b[1;32m   (...)\u001b[0m\n\u001b[0;32m    485\u001b[0m         inputs\u001b[39m=\u001b[39minputs,\n\u001b[0;32m    486\u001b[0m     )\n\u001b[1;32m--> 487\u001b[0m torch\u001b[39m.\u001b[39;49mautograd\u001b[39m.\u001b[39;49mbackward(\n\u001b[0;32m    488\u001b[0m     \u001b[39mself\u001b[39;49m, gradient, retain_graph, create_graph, inputs\u001b[39m=\u001b[39;49minputs\n\u001b[0;32m    489\u001b[0m )\n",
      "File \u001b[1;32mc:\\Users\\Adam\\anaconda3\\lib\\site-packages\\torch\\autograd\\__init__.py:197\u001b[0m, in \u001b[0;36mbackward\u001b[1;34m(tensors, grad_tensors, retain_graph, create_graph, grad_variables, inputs)\u001b[0m\n\u001b[0;32m    192\u001b[0m     retain_graph \u001b[39m=\u001b[39m create_graph\n\u001b[0;32m    194\u001b[0m \u001b[39m# The reason we repeat same the comment below is that\u001b[39;00m\n\u001b[0;32m    195\u001b[0m \u001b[39m# some Python versions print out the first line of a multi-line function\u001b[39;00m\n\u001b[0;32m    196\u001b[0m \u001b[39m# calls in the traceback and some print out the last line\u001b[39;00m\n\u001b[1;32m--> 197\u001b[0m Variable\u001b[39m.\u001b[39;49m_execution_engine\u001b[39m.\u001b[39;49mrun_backward(  \u001b[39m# Calls into the C++ engine to run the backward pass\u001b[39;49;00m\n\u001b[0;32m    198\u001b[0m     tensors, grad_tensors_, retain_graph, create_graph, inputs,\n\u001b[0;32m    199\u001b[0m     allow_unreachable\u001b[39m=\u001b[39;49m\u001b[39mTrue\u001b[39;49;00m, accumulate_grad\u001b[39m=\u001b[39;49m\u001b[39mTrue\u001b[39;49;00m)\n",
      "\u001b[1;31mKeyboardInterrupt\u001b[0m: "
     ]
    }
   ],
   "source": [
    "training(train_loader, \n",
    "         loss, \n",
    "         optimizer, \n",
    "         n_epochs,\n",
    "         report_period=5\n",
    "         )"
   ]
  },
  {
   "cell_type": "code",
   "execution_count": 19,
   "metadata": {},
   "outputs": [
    {
     "name": "stdout",
     "output_type": "stream",
     "text": [
      "Total: 50000\n",
      "Accuracy: 1.000000\n"
     ]
    }
   ],
   "source": [
    "train_loader = torch.utils.data.DataLoader(cifar10, batch_size=64,\n",
    "                                           shuffle=False)\n",
    "\n",
    "correct = 0\n",
    "total = 0\n",
    "\n",
    "with torch.no_grad():\n",
    "    for imgs, labels in train_loader:\n",
    "        outputs = model(imgs.view(imgs.shape[0], -1))\n",
    "        _, predicted = torch.max(outputs, dim=1)\n",
    "        total += labels.shape[0]\n",
    "        correct += int((predicted == labels).sum())\n",
    "\n",
    "print(\"Total:\", total)\n",
    "print(\"Accuracy: %f\" % (correct / total))"
   ]
  },
  {
   "cell_type": "code",
   "execution_count": 20,
   "metadata": {},
   "outputs": [
    {
     "name": "stdout",
     "output_type": "stream",
     "text": [
      "Total: 10000\n",
      "Accuracy: 0.466600\n"
     ]
    }
   ],
   "source": [
    "val_loader = torch.utils.data.DataLoader(cifar10_val, batch_size=64,\n",
    "                                         shuffle=False)\n",
    "\n",
    "correct = 0\n",
    "total = 0\n",
    "\n",
    "with torch.no_grad():\n",
    "    for imgs, labels in val_loader:\n",
    "        outputs = model(imgs.view(imgs.shape[0], -1))\n",
    "        _, predicted = torch.max(outputs, dim=1)\n",
    "        total += labels.shape[0]\n",
    "        correct += int((predicted == labels).sum())\n",
    "        \n",
    "print(\"Total:\", total)\n",
    "print(\"Accuracy: %f\" % (correct / total))"
   ]
  },
  {
   "cell_type": "code",
   "execution_count": null,
   "metadata": {},
   "outputs": [],
   "source": []
  }
 ],
 "metadata": {
  "kernelspec": {
   "display_name": "Python 3 (ipykernel)",
   "language": "python",
   "name": "python3"
  },
  "language_info": {
   "codemirror_mode": {
    "name": "ipython",
    "version": 3
   },
   "file_extension": ".py",
   "mimetype": "text/x-python",
   "name": "python",
   "nbconvert_exporter": "python",
   "pygments_lexer": "ipython3",
   "version": "3.9.12"
  },
  "vscode": {
   "interpreter": {
    "hash": "77aa5c7a8032890130e9a412da4828609b1dfa25c62620094c03af7a5cea44b0"
   }
  }
 },
 "nbformat": 4,
 "nbformat_minor": 4
}
